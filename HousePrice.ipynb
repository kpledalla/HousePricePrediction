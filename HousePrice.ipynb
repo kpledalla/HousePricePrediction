{
  "cells": [
    {
      "cell_type": "code",
      "execution_count": 384,
      "metadata": {
        "id": "eW4iwsudpfrl"
      },
      "outputs": [],
      "source": [
        "# from google.colab import drive\n",
        "# drive.mount('/content/drive')"
      ]
    },
    {
      "cell_type": "code",
      "execution_count": 385,
      "metadata": {
        "colab": {
          "base_uri": "https://localhost:8080/"
        },
        "id": "NYAWJssypwvG",
        "outputId": "4e692da0-4a61-4ee9-b303-00cec1da0a6a"
      },
      "outputs": [
        {
          "name": "stdout",
          "output_type": "stream",
          "text": [
            "Requirement already satisfied: pyspark in /usr/local/lib/python3.10/dist-packages (3.4.1)\n",
            "Requirement already satisfied: py4j==0.10.9.7 in /usr/local/lib/python3.10/dist-packages (from pyspark) (0.10.9.7)\n"
          ]
        }
      ],
      "source": [
        "!pip install pyspark"
      ]
    },
    {
      "cell_type": "code",
      "execution_count": 386,
      "metadata": {
        "colab": {
          "base_uri": "https://localhost:8080/",
          "height": 222
        },
        "id": "jExCM24Up7bN",
        "outputId": "938fd2ab-8fbd-446a-ec59-b4933f088b08"
      },
      "outputs": [
        {
          "data": {
            "text/html": [
              "\n",
              "            <div>\n",
              "                <p><b>SparkSession - in-memory</b></p>\n",
              "                \n",
              "        <div>\n",
              "            <p><b>SparkContext</b></p>\n",
              "\n",
              "            <p><a href=\"http://ad0ad762da9b:4040\">Spark UI</a></p>\n",
              "\n",
              "            <dl>\n",
              "              <dt>Version</dt>\n",
              "                <dd><code>v3.4.1</code></dd>\n",
              "              <dt>Master</dt>\n",
              "                <dd><code>local[*]</code></dd>\n",
              "              <dt>AppName</dt>\n",
              "                <dd><code>House Price Prediction</code></dd>\n",
              "            </dl>\n",
              "        </div>\n",
              "        \n",
              "            </div>\n",
              "        "
            ],
            "text/plain": [
              "<pyspark.sql.session.SparkSession at 0x7ca88cf3b130>"
            ]
          },
          "execution_count": 386,
          "metadata": {},
          "output_type": "execute_result"
        }
      ],
      "source": [
        "from pyspark.sql import DataFrame, SparkSession\n",
        "\n",
        "spark = SparkSession \\\n",
        "       .builder \\\n",
        "       .config(\"spark.driver.memory\", \"15g\") \\\n",
        "       .appName(\"House Price Prediction\") \\\n",
        "       .getOrCreate()\n",
        "\n",
        "spark"
      ]
    },
    {
      "cell_type": "code",
      "execution_count": 387,
      "metadata": {
        "id": "T6rmNluEqA0d"
      },
      "outputs": [],
      "source": [
        "from typing import List\n",
        "import pyspark.sql.types as T\n",
        "import pyspark.sql.functions as F\n",
        "from pyspark import SparkFiles\n",
        "from pyspark.sql.functions import isnull, when, count, col, desc\n",
        "\n",
        "import numpy as np\n",
        "import pandas as pd\n",
        "import seaborn as sns\n",
        "import matplotlib.pyplot as plt\n",
        "%matplotlib inline\n",
        "import warnings\n",
        "warnings.filterwarnings(\"ignore\")\n"
      ]
    },
    {
      "cell_type": "code",
      "execution_count": 388,
      "metadata": {
        "id": "KRi9gFFNqBLG"
      },
      "outputs": [],
      "source": [
        "df_train = spark.read.csv(\"./drive/MyDrive/Colab Notebooks/Hackathon/train.csv\", header=True, inferSchema=True)\n",
        "df_test = spark.read.csv(\"./drive/MyDrive/Colab Notebooks/Hackathon/test.csv\", header=True, inferSchema=True)"
      ]
    },
    {
      "cell_type": "code",
      "execution_count": 389,
      "metadata": {
        "colab": {
          "base_uri": "https://localhost:8080/"
        },
        "id": "92FrBEGWxjx1",
        "outputId": "46d8b3da-f3e5-46a8-92bb-cfa0693bb878"
      },
      "outputs": [
        {
          "name": "stdout",
          "output_type": "stream",
          "text": [
            "Train Dataset has  1460 Records/Rows and  81 attributes/columns.\n",
            "Test Dataset has  1459 Records/Rows and  80 attributes/columns.\n"
          ]
        }
      ],
      "source": [
        "print(\"Train Dataset has \",df_train.count(),\"Records/Rows and \",len(df_train.columns),\"attributes/columns.\")\n",
        "print(\"Test Dataset has \",df_test.count(),\"Records/Rows and \",len(df_test.columns),\"attributes/columns.\")"
      ]
    },
    {
      "cell_type": "code",
      "execution_count": 390,
      "metadata": {
        "colab": {
          "base_uri": "https://localhost:8080/"
        },
        "id": "fIDs98r0yVZK",
        "outputId": "6ddb06d4-63e9-414d-b314-090a524b91e7"
      },
      "outputs": [
        {
          "name": "stdout",
          "output_type": "stream",
          "text": [
            "<class 'pandas.core.frame.DataFrame'>\n",
            "RangeIndex: 1460 entries, 0 to 1459\n",
            "Columns: 81 entries, Id to SalePrice\n",
            "dtypes: int32(35), object(46)\n",
            "memory usage: 724.4+ KB\n"
          ]
        }
      ],
      "source": [
        "df_train.toPandas().info(verbose=False)"
      ]
    },
    {
      "cell_type": "markdown",
      "metadata": {
        "id": "3Wp5TiMkH3y7"
      },
      "source": [
        "Out of 81 columns, 35 columns are numerical and 46 columns are categorical."
      ]
    },
    {
      "cell_type": "code",
      "execution_count": 391,
      "metadata": {
        "colab": {
          "base_uri": "https://localhost:8080/"
        },
        "id": "79-j_p7AcnkH",
        "outputId": "86c8ecbe-331c-4ec8-d25b-dc52d5cb416c"
      },
      "outputs": [
        {
          "name": "stdout",
          "output_type": "stream",
          "text": [
            "<class 'pandas.core.frame.DataFrame'>\n",
            "RangeIndex: 1459 entries, 0 to 1458\n",
            "Columns: 80 entries, Id to SaleCondition\n",
            "dtypes: int32(26), object(54)\n",
            "memory usage: 763.8+ KB\n"
          ]
        }
      ],
      "source": [
        "df_test.toPandas().info(verbose=False)"
      ]
    },
    {
      "cell_type": "markdown",
      "metadata": {
        "id": "zk3uSIbmfDMZ"
      },
      "source": [
        "Out of 80 columns, 26 columns are numerical and *54* columns are categorical."
      ]
    },
    {
      "cell_type": "code",
      "execution_count": 392,
      "metadata": {
        "colab": {
          "base_uri": "https://localhost:8080/"
        },
        "id": "E5KUj4Tiq_en",
        "outputId": "d46754a9-8ea7-4d73-ab61-6b103760f823"
      },
      "outputs": [
        {
          "name": "stdout",
          "output_type": "stream",
          "text": [
            "[('Id', 'int'), ('MSSubClass', 'int'), ('MSZoning', 'string'), ('LotFrontage', 'string'), ('LotArea', 'int'), ('Street', 'string'), ('Alley', 'string'), ('LotShape', 'string'), ('LandContour', 'string'), ('Utilities', 'string'), ('LotConfig', 'string'), ('LandSlope', 'string'), ('Neighborhood', 'string'), ('Condition1', 'string'), ('Condition2', 'string'), ('BldgType', 'string'), ('HouseStyle', 'string'), ('OverallQual', 'int'), ('OverallCond', 'int'), ('YearBuilt', 'int'), ('YearRemodAdd', 'int'), ('RoofStyle', 'string'), ('RoofMatl', 'string'), ('Exterior1st', 'string'), ('Exterior2nd', 'string'), ('MasVnrType', 'string'), ('MasVnrArea', 'string'), ('ExterQual', 'string'), ('ExterCond', 'string'), ('Foundation', 'string'), ('BsmtQual', 'string'), ('BsmtCond', 'string'), ('BsmtExposure', 'string'), ('BsmtFinType1', 'string'), ('BsmtFinSF1', 'int'), ('BsmtFinType2', 'string'), ('BsmtFinSF2', 'int'), ('BsmtUnfSF', 'int'), ('TotalBsmtSF', 'int'), ('Heating', 'string'), ('HeatingQC', 'string'), ('CentralAir', 'string'), ('Electrical', 'string'), ('1stFlrSF', 'int'), ('2ndFlrSF', 'int'), ('LowQualFinSF', 'int'), ('GrLivArea', 'int'), ('BsmtFullBath', 'int'), ('BsmtHalfBath', 'int'), ('FullBath', 'int'), ('HalfBath', 'int'), ('BedroomAbvGr', 'int'), ('KitchenAbvGr', 'int'), ('KitchenQual', 'string'), ('TotRmsAbvGrd', 'int'), ('Functional', 'string'), ('Fireplaces', 'int'), ('FireplaceQu', 'string'), ('GarageType', 'string'), ('GarageYrBlt', 'string'), ('GarageFinish', 'string'), ('GarageCars', 'int'), ('GarageArea', 'int'), ('GarageQual', 'string'), ('GarageCond', 'string'), ('PavedDrive', 'string'), ('WoodDeckSF', 'int'), ('OpenPorchSF', 'int'), ('EnclosedPorch', 'int'), ('3SsnPorch', 'int'), ('ScreenPorch', 'int'), ('PoolArea', 'int'), ('PoolQC', 'string'), ('Fence', 'string'), ('MiscFeature', 'string'), ('MiscVal', 'int'), ('MoSold', 'int'), ('YrSold', 'int'), ('SaleType', 'string'), ('SaleCondition', 'string'), ('SalePrice', 'int')] \n",
            " [('Id', 'int'), ('MSSubClass', 'int'), ('MSZoning', 'string'), ('LotFrontage', 'string'), ('LotArea', 'int'), ('Street', 'string'), ('Alley', 'string'), ('LotShape', 'string'), ('LandContour', 'string'), ('Utilities', 'string'), ('LotConfig', 'string'), ('LandSlope', 'string'), ('Neighborhood', 'string'), ('Condition1', 'string'), ('Condition2', 'string'), ('BldgType', 'string'), ('HouseStyle', 'string'), ('OverallQual', 'int'), ('OverallCond', 'int'), ('YearBuilt', 'int'), ('YearRemodAdd', 'int'), ('RoofStyle', 'string'), ('RoofMatl', 'string'), ('Exterior1st', 'string'), ('Exterior2nd', 'string'), ('MasVnrType', 'string'), ('MasVnrArea', 'string'), ('ExterQual', 'string'), ('ExterCond', 'string'), ('Foundation', 'string'), ('BsmtQual', 'string'), ('BsmtCond', 'string'), ('BsmtExposure', 'string'), ('BsmtFinType1', 'string'), ('BsmtFinSF1', 'string'), ('BsmtFinType2', 'string'), ('BsmtFinSF2', 'string'), ('BsmtUnfSF', 'string'), ('TotalBsmtSF', 'string'), ('Heating', 'string'), ('HeatingQC', 'string'), ('CentralAir', 'string'), ('Electrical', 'string'), ('1stFlrSF', 'int'), ('2ndFlrSF', 'int'), ('LowQualFinSF', 'int'), ('GrLivArea', 'int'), ('BsmtFullBath', 'string'), ('BsmtHalfBath', 'string'), ('FullBath', 'int'), ('HalfBath', 'int'), ('BedroomAbvGr', 'int'), ('KitchenAbvGr', 'int'), ('KitchenQual', 'string'), ('TotRmsAbvGrd', 'int'), ('Functional', 'string'), ('Fireplaces', 'int'), ('FireplaceQu', 'string'), ('GarageType', 'string'), ('GarageYrBlt', 'string'), ('GarageFinish', 'string'), ('GarageCars', 'string'), ('GarageArea', 'string'), ('GarageQual', 'string'), ('GarageCond', 'string'), ('PavedDrive', 'string'), ('WoodDeckSF', 'int'), ('OpenPorchSF', 'int'), ('EnclosedPorch', 'int'), ('3SsnPorch', 'int'), ('ScreenPorch', 'int'), ('PoolArea', 'int'), ('PoolQC', 'string'), ('Fence', 'string'), ('MiscFeature', 'string'), ('MiscVal', 'int'), ('MoSold', 'int'), ('YrSold', 'int'), ('SaleType', 'string'), ('SaleCondition', 'string')]\n"
          ]
        }
      ],
      "source": [
        "print(df_train.dtypes,\"\\n\", df_test.dtypes)\n"
      ]
    },
    {
      "cell_type": "markdown",
      "metadata": {
        "id": "AH2YMm1vecFi"
      },
      "source": [
        "The datatypes in both the datasets are not same.\n",
        "In the test dataset, the columns BsmtFinSF1, BsmtFinSF2, BsmtUnfSF, TotalBsmtSF, BsmtFullBath, BsmtHalfBath, GarageCars, GarageArea are string type which needs to converted to int"
      ]
    },
    {
      "cell_type": "code",
      "execution_count": 393,
      "metadata": {
        "id": "zvngVkUefg8P"
      },
      "outputs": [],
      "source": [
        "cols_type = [\"BsmtFinSF1\", \"BsmtFinSF2\", \"BsmtUnfSF\", \"TotalBsmtSF\", \"BsmtFullBath\", \"BsmtHalfBath\", \"GarageCars\", \"GarageArea\"]\n",
        "for c in cols_type:\n",
        "  df_test = df_test.withColumn(c, df_test[c].cast('double'))\n",
        "\n",
        "  # #changing even the columns in train set from int to int\n",
        "  df_train = df_train.withColumn(c, df_train[c].cast('double'))"
      ]
    },
    {
      "cell_type": "code",
      "execution_count": 394,
      "metadata": {
        "colab": {
          "base_uri": "https://localhost:8080/"
        },
        "id": "gGLg1WJehqvi",
        "outputId": "1c0d8652-5fd4-4e9e-e16c-5d4ea95ff993"
      },
      "outputs": [
        {
          "name": "stdout",
          "output_type": "stream",
          "text": [
            "<class 'pandas.core.frame.DataFrame'>\n",
            "RangeIndex: 1459 entries, 0 to 1458\n",
            "Columns: 80 entries, Id to SaleCondition\n",
            "dtypes: float64(8), int32(26), object(46)\n",
            "memory usage: 763.8+ KB\n"
          ]
        }
      ],
      "source": [
        "df_test.toPandas().info(verbose=False)"
      ]
    },
    {
      "cell_type": "markdown",
      "metadata": {
        "id": "00yJFiP3Gdvu"
      },
      "source": [
        "Removing duplicate rows if any"
      ]
    },
    {
      "cell_type": "code",
      "execution_count": 395,
      "metadata": {
        "colab": {
          "base_uri": "https://localhost:8080/"
        },
        "id": "7Y3MYrSqGZo_",
        "outputId": "57d29d0b-e2d5-45fe-926b-62930c2638de"
      },
      "outputs": [
        {
          "data": {
            "text/plain": [
              "DataFrame[Id: int, MSSubClass: int, MSZoning: string, LotFrontage: string, LotArea: int, Street: string, Alley: string, LotShape: string, LandContour: string, Utilities: string, LotConfig: string, LandSlope: string, Neighborhood: string, Condition1: string, Condition2: string, BldgType: string, HouseStyle: string, OverallQual: int, OverallCond: int, YearBuilt: int, YearRemodAdd: int, RoofStyle: string, RoofMatl: string, Exterior1st: string, Exterior2nd: string, MasVnrType: string, MasVnrArea: string, ExterQual: string, ExterCond: string, Foundation: string, BsmtQual: string, BsmtCond: string, BsmtExposure: string, BsmtFinType1: string, BsmtFinSF1: double, BsmtFinType2: string, BsmtFinSF2: double, BsmtUnfSF: double, TotalBsmtSF: double, Heating: string, HeatingQC: string, CentralAir: string, Electrical: string, 1stFlrSF: int, 2ndFlrSF: int, LowQualFinSF: int, GrLivArea: int, BsmtFullBath: double, BsmtHalfBath: double, FullBath: int, HalfBath: int, BedroomAbvGr: int, KitchenAbvGr: int, KitchenQual: string, TotRmsAbvGrd: int, Functional: string, Fireplaces: int, FireplaceQu: string, GarageType: string, GarageYrBlt: string, GarageFinish: string, GarageCars: double, GarageArea: double, GarageQual: string, GarageCond: string, PavedDrive: string, WoodDeckSF: int, OpenPorchSF: int, EnclosedPorch: int, 3SsnPorch: int, ScreenPorch: int, PoolArea: int, PoolQC: string, Fence: string, MiscFeature: string, MiscVal: int, MoSold: int, YrSold: int, SaleType: string, SaleCondition: string]"
            ]
          },
          "execution_count": 395,
          "metadata": {},
          "output_type": "execute_result"
        }
      ],
      "source": [
        "df_train.dropDuplicates()\n",
        "df_test.dropDuplicates()"
      ]
    },
    {
      "cell_type": "markdown",
      "metadata": {
        "id": "CDu2142tgNg2"
      },
      "source": [
        "So no duplicate rows"
      ]
    },
    {
      "cell_type": "code",
      "execution_count": 396,
      "metadata": {
        "colab": {
          "base_uri": "https://localhost:8080/"
        },
        "id": "EDI3YT5Az2_z",
        "outputId": "ab23230e-cbde-44d9-e101-53740aa6927f"
      },
      "outputs": [
        {
          "name": "stdout",
          "output_type": "stream",
          "text": [
            "+---+----------+--------+-----------+-------+------+-----+--------+-----------+---------+---------+---------+------------+----------+----------+--------+----------+-----------+-----------+---------+------------+---------+--------+-----------+-----------+----------+----------+---------+---------+----------+--------+--------+------------+------------+----------+------------+----------+---------+-----------+-------+---------+----------+----------+--------+--------+------------+---------+------------+------------+--------+--------+------------+------------+-----------+------------+----------+----------+-----------+----------+-----------+------------+----------+----------+----------+----------+----------+----------+-----------+-------------+---------+-----------+--------+------+-----+-----------+-------+------+------+--------+-------------+---------+\n",
            "| Id|MSSubClass|MSZoning|LotFrontage|LotArea|Street|Alley|LotShape|LandContour|Utilities|LotConfig|LandSlope|Neighborhood|Condition1|Condition2|BldgType|HouseStyle|OverallQual|OverallCond|YearBuilt|YearRemodAdd|RoofStyle|RoofMatl|Exterior1st|Exterior2nd|MasVnrType|MasVnrArea|ExterQual|ExterCond|Foundation|BsmtQual|BsmtCond|BsmtExposure|BsmtFinType1|BsmtFinSF1|BsmtFinType2|BsmtFinSF2|BsmtUnfSF|TotalBsmtSF|Heating|HeatingQC|CentralAir|Electrical|1stFlrSF|2ndFlrSF|LowQualFinSF|GrLivArea|BsmtFullBath|BsmtHalfBath|FullBath|HalfBath|BedroomAbvGr|KitchenAbvGr|KitchenQual|TotRmsAbvGrd|Functional|Fireplaces|FireplaceQu|GarageType|GarageYrBlt|GarageFinish|GarageCars|GarageArea|GarageQual|GarageCond|PavedDrive|WoodDeckSF|OpenPorchSF|EnclosedPorch|3SsnPorch|ScreenPorch|PoolArea|PoolQC|Fence|MiscFeature|MiscVal|MoSold|YrSold|SaleType|SaleCondition|SalePrice|\n",
            "+---+----------+--------+-----------+-------+------+-----+--------+-----------+---------+---------+---------+------------+----------+----------+--------+----------+-----------+-----------+---------+------------+---------+--------+-----------+-----------+----------+----------+---------+---------+----------+--------+--------+------------+------------+----------+------------+----------+---------+-----------+-------+---------+----------+----------+--------+--------+------------+---------+------------+------------+--------+--------+------------+------------+-----------+------------+----------+----------+-----------+----------+-----------+------------+----------+----------+----------+----------+----------+----------+-----------+-------------+---------+-----------+--------+------+-----+-----------+-------+------+------+--------+-------------+---------+\n",
            "|  1|        60|      RL|         65|   8450|  Pave|   NA|     Reg|        Lvl|   AllPub|   Inside|      Gtl|     CollgCr|      Norm|      Norm|    1Fam|    2Story|          7|          5|     2003|        2003|    Gable| CompShg|    VinylSd|    VinylSd|   BrkFace|       196|       Gd|       TA|     PConc|      Gd|      TA|          No|         GLQ|     706.0|         Unf|       0.0|    150.0|      856.0|   GasA|       Ex|         Y|     SBrkr|     856|     854|           0|     1710|         1.0|         0.0|       2|       1|           3|           1|         Gd|           8|       Typ|         0|         NA|    Attchd|       2003|         RFn|       2.0|     548.0|        TA|        TA|         Y|         0|         61|            0|        0|          0|       0|    NA|   NA|         NA|      0|     2|  2008|      WD|       Normal|   208500|\n",
            "|  2|        20|      RL|         80|   9600|  Pave|   NA|     Reg|        Lvl|   AllPub|      FR2|      Gtl|     Veenker|     Feedr|      Norm|    1Fam|    1Story|          6|          8|     1976|        1976|    Gable| CompShg|    MetalSd|    MetalSd|      None|         0|       TA|       TA|    CBlock|      Gd|      TA|          Gd|         ALQ|     978.0|         Unf|       0.0|    284.0|     1262.0|   GasA|       Ex|         Y|     SBrkr|    1262|       0|           0|     1262|         0.0|         1.0|       2|       0|           3|           1|         TA|           6|       Typ|         1|         TA|    Attchd|       1976|         RFn|       2.0|     460.0|        TA|        TA|         Y|       298|          0|            0|        0|          0|       0|    NA|   NA|         NA|      0|     5|  2007|      WD|       Normal|   181500|\n",
            "|  3|        60|      RL|         68|  11250|  Pave|   NA|     IR1|        Lvl|   AllPub|   Inside|      Gtl|     CollgCr|      Norm|      Norm|    1Fam|    2Story|          7|          5|     2001|        2002|    Gable| CompShg|    VinylSd|    VinylSd|   BrkFace|       162|       Gd|       TA|     PConc|      Gd|      TA|          Mn|         GLQ|     486.0|         Unf|       0.0|    434.0|      920.0|   GasA|       Ex|         Y|     SBrkr|     920|     866|           0|     1786|         1.0|         0.0|       2|       1|           3|           1|         Gd|           6|       Typ|         1|         TA|    Attchd|       2001|         RFn|       2.0|     608.0|        TA|        TA|         Y|         0|         42|            0|        0|          0|       0|    NA|   NA|         NA|      0|     9|  2008|      WD|       Normal|   223500|\n",
            "|  4|        70|      RL|         60|   9550|  Pave|   NA|     IR1|        Lvl|   AllPub|   Corner|      Gtl|     Crawfor|      Norm|      Norm|    1Fam|    2Story|          7|          5|     1915|        1970|    Gable| CompShg|    Wd Sdng|    Wd Shng|      None|         0|       TA|       TA|    BrkTil|      TA|      Gd|          No|         ALQ|     216.0|         Unf|       0.0|    540.0|      756.0|   GasA|       Gd|         Y|     SBrkr|     961|     756|           0|     1717|         1.0|         0.0|       1|       0|           3|           1|         Gd|           7|       Typ|         1|         Gd|    Detchd|       1998|         Unf|       3.0|     642.0|        TA|        TA|         Y|         0|         35|          272|        0|          0|       0|    NA|   NA|         NA|      0|     2|  2006|      WD|      Abnorml|   140000|\n",
            "|  5|        60|      RL|         84|  14260|  Pave|   NA|     IR1|        Lvl|   AllPub|      FR2|      Gtl|     NoRidge|      Norm|      Norm|    1Fam|    2Story|          8|          5|     2000|        2000|    Gable| CompShg|    VinylSd|    VinylSd|   BrkFace|       350|       Gd|       TA|     PConc|      Gd|      TA|          Av|         GLQ|     655.0|         Unf|       0.0|    490.0|     1145.0|   GasA|       Ex|         Y|     SBrkr|    1145|    1053|           0|     2198|         1.0|         0.0|       2|       1|           4|           1|         Gd|           9|       Typ|         1|         TA|    Attchd|       2000|         RFn|       3.0|     836.0|        TA|        TA|         Y|       192|         84|            0|        0|          0|       0|    NA|   NA|         NA|      0|    12|  2008|      WD|       Normal|   250000|\n",
            "+---+----------+--------+-----------+-------+------+-----+--------+-----------+---------+---------+---------+------------+----------+----------+--------+----------+-----------+-----------+---------+------------+---------+--------+-----------+-----------+----------+----------+---------+---------+----------+--------+--------+------------+------------+----------+------------+----------+---------+-----------+-------+---------+----------+----------+--------+--------+------------+---------+------------+------------+--------+--------+------------+------------+-----------+------------+----------+----------+-----------+----------+-----------+------------+----------+----------+----------+----------+----------+----------+-----------+-------------+---------+-----------+--------+------+-----+-----------+-------+------+------+--------+-------------+---------+\n",
            "only showing top 5 rows\n",
            "\n"
          ]
        }
      ],
      "source": [
        "df_train.show(5)"
      ]
    },
    {
      "cell_type": "markdown",
      "metadata": {
        "id": "l4wJuvG1ICzL"
      },
      "source": [
        "Removing the Id feature as it is just an index to the rows"
      ]
    },
    {
      "cell_type": "code",
      "execution_count": 397,
      "metadata": {
        "id": "AgdOORAW0I2H"
      },
      "outputs": [],
      "source": [
        "# test_id = df_test[\"Id\"]    ##Storing test id because we need it for subission file.\n",
        "# df_train = df_train.drop(\"Id\")\n",
        "# df_test = df_test.drop(\"Id\")\n"
      ]
    },
    {
      "cell_type": "markdown",
      "metadata": {
        "id": "BqDXGEVgQCnl"
      },
      "source": [
        "*Performing missing value analysis*"
      ]
    },
    {
      "cell_type": "markdown",
      "metadata": {
        "id": "-ItqLWM8sHWt"
      },
      "source": [
        "Dropping the columns with large number of missing values, and imputing the missing values"
      ]
    },
    {
      "cell_type": "code",
      "execution_count": 398,
      "metadata": {
        "colab": {
          "base_uri": "https://localhost:8080/",
          "height": 268
        },
        "id": "h5GTXd9B94oU",
        "outputId": "e6875219-5690-45b6-f3df-922d47484622"
      },
      "outputs": [
        {
          "data": {
            "text/html": [
              "\n",
              "\n",
              "  <div id=\"df-2a898e53-8e0e-4e0f-b17a-ca2d94675e46\">\n",
              "    <div class=\"colab-df-container\">\n",
              "      <div>\n",
              "<style scoped>\n",
              "    .dataframe tbody tr th:only-of-type {\n",
              "        vertical-align: middle;\n",
              "    }\n",
              "\n",
              "    .dataframe tbody tr th {\n",
              "        vertical-align: top;\n",
              "    }\n",
              "\n",
              "    .dataframe thead th {\n",
              "        text-align: right;\n",
              "    }\n",
              "</style>\n",
              "<table border=\"1\" class=\"dataframe\">\n",
              "  <thead>\n",
              "    <tr style=\"text-align: right;\">\n",
              "      <th></th>\n",
              "      <th>MSZoning</th>\n",
              "      <th>LotFrontage</th>\n",
              "      <th>Street</th>\n",
              "      <th>Alley</th>\n",
              "      <th>LotShape</th>\n",
              "      <th>LandContour</th>\n",
              "      <th>Utilities</th>\n",
              "      <th>LotConfig</th>\n",
              "      <th>LandSlope</th>\n",
              "      <th>Neighborhood</th>\n",
              "      <th>...</th>\n",
              "      <th>GarageYrBlt</th>\n",
              "      <th>GarageFinish</th>\n",
              "      <th>GarageQual</th>\n",
              "      <th>GarageCond</th>\n",
              "      <th>PavedDrive</th>\n",
              "      <th>PoolQC</th>\n",
              "      <th>Fence</th>\n",
              "      <th>MiscFeature</th>\n",
              "      <th>SaleType</th>\n",
              "      <th>SaleCondition</th>\n",
              "    </tr>\n",
              "  </thead>\n",
              "  <tbody>\n",
              "    <tr>\n",
              "      <th>count</th>\n",
              "      <td>1460</td>\n",
              "      <td>1460</td>\n",
              "      <td>1460</td>\n",
              "      <td>1460</td>\n",
              "      <td>1460</td>\n",
              "      <td>1460</td>\n",
              "      <td>1460</td>\n",
              "      <td>1460</td>\n",
              "      <td>1460</td>\n",
              "      <td>1460</td>\n",
              "      <td>...</td>\n",
              "      <td>1460</td>\n",
              "      <td>1460</td>\n",
              "      <td>1460</td>\n",
              "      <td>1460</td>\n",
              "      <td>1460</td>\n",
              "      <td>1460</td>\n",
              "      <td>1460</td>\n",
              "      <td>1460</td>\n",
              "      <td>1460</td>\n",
              "      <td>1460</td>\n",
              "    </tr>\n",
              "    <tr>\n",
              "      <th>unique</th>\n",
              "      <td>5</td>\n",
              "      <td>111</td>\n",
              "      <td>2</td>\n",
              "      <td>3</td>\n",
              "      <td>4</td>\n",
              "      <td>4</td>\n",
              "      <td>2</td>\n",
              "      <td>5</td>\n",
              "      <td>3</td>\n",
              "      <td>25</td>\n",
              "      <td>...</td>\n",
              "      <td>98</td>\n",
              "      <td>4</td>\n",
              "      <td>6</td>\n",
              "      <td>6</td>\n",
              "      <td>3</td>\n",
              "      <td>4</td>\n",
              "      <td>5</td>\n",
              "      <td>5</td>\n",
              "      <td>9</td>\n",
              "      <td>6</td>\n",
              "    </tr>\n",
              "    <tr>\n",
              "      <th>top</th>\n",
              "      <td>RL</td>\n",
              "      <td>NA</td>\n",
              "      <td>Pave</td>\n",
              "      <td>NA</td>\n",
              "      <td>Reg</td>\n",
              "      <td>Lvl</td>\n",
              "      <td>AllPub</td>\n",
              "      <td>Inside</td>\n",
              "      <td>Gtl</td>\n",
              "      <td>NAmes</td>\n",
              "      <td>...</td>\n",
              "      <td>NA</td>\n",
              "      <td>Unf</td>\n",
              "      <td>TA</td>\n",
              "      <td>TA</td>\n",
              "      <td>Y</td>\n",
              "      <td>NA</td>\n",
              "      <td>NA</td>\n",
              "      <td>NA</td>\n",
              "      <td>WD</td>\n",
              "      <td>Normal</td>\n",
              "    </tr>\n",
              "    <tr>\n",
              "      <th>freq</th>\n",
              "      <td>1151</td>\n",
              "      <td>259</td>\n",
              "      <td>1454</td>\n",
              "      <td>1369</td>\n",
              "      <td>925</td>\n",
              "      <td>1311</td>\n",
              "      <td>1459</td>\n",
              "      <td>1052</td>\n",
              "      <td>1382</td>\n",
              "      <td>225</td>\n",
              "      <td>...</td>\n",
              "      <td>81</td>\n",
              "      <td>605</td>\n",
              "      <td>1311</td>\n",
              "      <td>1326</td>\n",
              "      <td>1340</td>\n",
              "      <td>1453</td>\n",
              "      <td>1179</td>\n",
              "      <td>1406</td>\n",
              "      <td>1267</td>\n",
              "      <td>1198</td>\n",
              "    </tr>\n",
              "  </tbody>\n",
              "</table>\n",
              "<p>4 rows × 46 columns</p>\n",
              "</div>\n",
              "      <button class=\"colab-df-convert\" onclick=\"convertToInteractive('df-2a898e53-8e0e-4e0f-b17a-ca2d94675e46')\"\n",
              "              title=\"Convert this dataframe to an interactive table.\"\n",
              "              style=\"display:none;\">\n",
              "\n",
              "  <svg xmlns=\"http://www.w3.org/2000/svg\" height=\"24px\"viewBox=\"0 0 24 24\"\n",
              "       width=\"24px\">\n",
              "    <path d=\"M0 0h24v24H0V0z\" fill=\"none\"/>\n",
              "    <path d=\"M18.56 5.44l.94 2.06.94-2.06 2.06-.94-2.06-.94-.94-2.06-.94 2.06-2.06.94zm-11 1L8.5 8.5l.94-2.06 2.06-.94-2.06-.94L8.5 2.5l-.94 2.06-2.06.94zm10 10l.94 2.06.94-2.06 2.06-.94-2.06-.94-.94-2.06-.94 2.06-2.06.94z\"/><path d=\"M17.41 7.96l-1.37-1.37c-.4-.4-.92-.59-1.43-.59-.52 0-1.04.2-1.43.59L10.3 9.45l-7.72 7.72c-.78.78-.78 2.05 0 2.83L4 21.41c.39.39.9.59 1.41.59.51 0 1.02-.2 1.41-.59l7.78-7.78 2.81-2.81c.8-.78.8-2.07 0-2.86zM5.41 20L4 18.59l7.72-7.72 1.47 1.35L5.41 20z\"/>\n",
              "  </svg>\n",
              "      </button>\n",
              "\n",
              "\n",
              "\n",
              "    <div id=\"df-7072142b-6a51-4912-a3d8-3a4ef3cd557b\">\n",
              "      <button class=\"colab-df-quickchart\" onclick=\"quickchart('df-7072142b-6a51-4912-a3d8-3a4ef3cd557b')\"\n",
              "              title=\"Suggest charts.\"\n",
              "              style=\"display:none;\">\n",
              "\n",
              "<svg xmlns=\"http://www.w3.org/2000/svg\" height=\"24px\"viewBox=\"0 0 24 24\"\n",
              "     width=\"24px\">\n",
              "    <g>\n",
              "        <path d=\"M19 3H5c-1.1 0-2 .9-2 2v14c0 1.1.9 2 2 2h14c1.1 0 2-.9 2-2V5c0-1.1-.9-2-2-2zM9 17H7v-7h2v7zm4 0h-2V7h2v10zm4 0h-2v-4h2v4z\"/>\n",
              "    </g>\n",
              "</svg>\n",
              "      </button>\n",
              "    </div>\n",
              "\n",
              "<style>\n",
              "  .colab-df-quickchart {\n",
              "    background-color: #E8F0FE;\n",
              "    border: none;\n",
              "    border-radius: 50%;\n",
              "    cursor: pointer;\n",
              "    display: none;\n",
              "    fill: #1967D2;\n",
              "    height: 32px;\n",
              "    padding: 0 0 0 0;\n",
              "    width: 32px;\n",
              "  }\n",
              "\n",
              "  .colab-df-quickchart:hover {\n",
              "    background-color: #E2EBFA;\n",
              "    box-shadow: 0px 1px 2px rgba(60, 64, 67, 0.3), 0px 1px 3px 1px rgba(60, 64, 67, 0.15);\n",
              "    fill: #174EA6;\n",
              "  }\n",
              "\n",
              "  [theme=dark] .colab-df-quickchart {\n",
              "    background-color: #3B4455;\n",
              "    fill: #D2E3FC;\n",
              "  }\n",
              "\n",
              "  [theme=dark] .colab-df-quickchart:hover {\n",
              "    background-color: #434B5C;\n",
              "    box-shadow: 0px 1px 3px 1px rgba(0, 0, 0, 0.15);\n",
              "    filter: drop-shadow(0px 1px 2px rgba(0, 0, 0, 0.3));\n",
              "    fill: #FFFFFF;\n",
              "  }\n",
              "</style>\n",
              "\n",
              "    <script>\n",
              "      async function quickchart(key) {\n",
              "        const containerElement = document.querySelector('#' + key);\n",
              "        const charts = await google.colab.kernel.invokeFunction(\n",
              "            'suggestCharts', [key], {});\n",
              "      }\n",
              "    </script>\n",
              "\n",
              "      <script>\n",
              "\n",
              "function displayQuickchartButton(domScope) {\n",
              "  let quickchartButtonEl =\n",
              "    domScope.querySelector('#df-7072142b-6a51-4912-a3d8-3a4ef3cd557b button.colab-df-quickchart');\n",
              "  quickchartButtonEl.style.display =\n",
              "    google.colab.kernel.accessAllowed ? 'block' : 'none';\n",
              "}\n",
              "\n",
              "        displayQuickchartButton(document);\n",
              "      </script>\n",
              "      <style>\n",
              "    .colab-df-container {\n",
              "      display:flex;\n",
              "      flex-wrap:wrap;\n",
              "      gap: 12px;\n",
              "    }\n",
              "\n",
              "    .colab-df-convert {\n",
              "      background-color: #E8F0FE;\n",
              "      border: none;\n",
              "      border-radius: 50%;\n",
              "      cursor: pointer;\n",
              "      display: none;\n",
              "      fill: #1967D2;\n",
              "      height: 32px;\n",
              "      padding: 0 0 0 0;\n",
              "      width: 32px;\n",
              "    }\n",
              "\n",
              "    .colab-df-convert:hover {\n",
              "      background-color: #E2EBFA;\n",
              "      box-shadow: 0px 1px 2px rgba(60, 64, 67, 0.3), 0px 1px 3px 1px rgba(60, 64, 67, 0.15);\n",
              "      fill: #174EA6;\n",
              "    }\n",
              "\n",
              "    [theme=dark] .colab-df-convert {\n",
              "      background-color: #3B4455;\n",
              "      fill: #D2E3FC;\n",
              "    }\n",
              "\n",
              "    [theme=dark] .colab-df-convert:hover {\n",
              "      background-color: #434B5C;\n",
              "      box-shadow: 0px 1px 3px 1px rgba(0, 0, 0, 0.15);\n",
              "      filter: drop-shadow(0px 1px 2px rgba(0, 0, 0, 0.3));\n",
              "      fill: #FFFFFF;\n",
              "    }\n",
              "  </style>\n",
              "\n",
              "      <script>\n",
              "        const buttonEl =\n",
              "          document.querySelector('#df-2a898e53-8e0e-4e0f-b17a-ca2d94675e46 button.colab-df-convert');\n",
              "        buttonEl.style.display =\n",
              "          google.colab.kernel.accessAllowed ? 'block' : 'none';\n",
              "\n",
              "        async function convertToInteractive(key) {\n",
              "          const element = document.querySelector('#df-2a898e53-8e0e-4e0f-b17a-ca2d94675e46');\n",
              "          const dataTable =\n",
              "            await google.colab.kernel.invokeFunction('convertToInteractive',\n",
              "                                                     [key], {});\n",
              "          if (!dataTable) return;\n",
              "\n",
              "          const docLinkHtml = 'Like what you see? Visit the ' +\n",
              "            '<a target=\"_blank\" href=https://colab.research.google.com/notebooks/data_table.ipynb>data table notebook</a>'\n",
              "            + ' to learn more about interactive tables.';\n",
              "          element.innerHTML = '';\n",
              "          dataTable['output_type'] = 'display_data';\n",
              "          await google.colab.output.renderOutput(dataTable, element);\n",
              "          const docLink = document.createElement('div');\n",
              "          docLink.innerHTML = docLinkHtml;\n",
              "          element.appendChild(docLink);\n",
              "        }\n",
              "      </script>\n",
              "    </div>\n",
              "  </div>\n"
            ],
            "text/plain": [
              "       MSZoning LotFrontage Street Alley LotShape LandContour Utilities  \\\n",
              "count      1460        1460   1460  1460     1460        1460      1460   \n",
              "unique        5         111      2     3        4           4         2   \n",
              "top          RL          NA   Pave    NA      Reg         Lvl    AllPub   \n",
              "freq       1151         259   1454  1369      925        1311      1459   \n",
              "\n",
              "       LotConfig LandSlope Neighborhood  ... GarageYrBlt GarageFinish  \\\n",
              "count       1460      1460         1460  ...        1460         1460   \n",
              "unique         5         3           25  ...          98            4   \n",
              "top       Inside       Gtl        NAmes  ...          NA          Unf   \n",
              "freq        1052      1382          225  ...          81          605   \n",
              "\n",
              "       GarageQual GarageCond PavedDrive PoolQC Fence MiscFeature SaleType  \\\n",
              "count        1460       1460       1460   1460  1460        1460     1460   \n",
              "unique          6          6          3      4     5           5        9   \n",
              "top            TA         TA          Y     NA    NA          NA       WD   \n",
              "freq         1311       1326       1340   1453  1179        1406     1267   \n",
              "\n",
              "       SaleCondition  \n",
              "count           1460  \n",
              "unique             6  \n",
              "top           Normal  \n",
              "freq            1198  \n",
              "\n",
              "[4 rows x 46 columns]"
            ]
          },
          "execution_count": 398,
          "metadata": {},
          "output_type": "execute_result"
        }
      ],
      "source": [
        "df_train.toPandas().describe(include = \"object\")"
      ]
    },
    {
      "cell_type": "code",
      "execution_count": 399,
      "metadata": {
        "id": "A1vQOcyT1Ogd"
      },
      "outputs": [],
      "source": [
        "# import pyspark\n",
        "# df_null ={}\n",
        "# for cl in df_train.columns:\n",
        "#   cntspace =  df_train.where(F.col(cl)==\"\").count()\n",
        "#   cntnan = df_train.where(F.col(cl)==np.nan).count()\n",
        "#   cntna =  df_train.where(F.col(cl)==\"NA\").count()\n",
        "#   if cntspace > 0 or cntnan > 0 or cntna > 0:\n",
        "#      df_null[cl] ={\"empty strings\" : cntspace, \"nan\" : cntnan, \"na\": cntna, \"total\": cntspace+cntnan+cntna, \"Percentage\" :(cntspace+cntnan+cntna)/df_data.count() *100}\n",
        "# df_null =  pd.DataFrame(df_null)\n",
        "# df_null\n"
      ]
    },
    {
      "cell_type": "code",
      "execution_count": 400,
      "metadata": {
        "colab": {
          "base_uri": "https://localhost:8080/"
        },
        "id": "ZvKOTILOd2uN",
        "outputId": "97ab6456-a203-4897-bb6d-29648e879ef9"
      },
      "outputs": [
        {
          "name": "stdout",
          "output_type": "stream",
          "text": [
            "+---+----------+--------+-----------+-------+------+-----+--------+-----------+---------+---------+---------+------------+----------+----------+--------+----------+-----------+-----------+---------+------------+---------+--------+-----------+-----------+----------+----------+---------+---------+----------+--------+--------+------------+------------+----------+------------+----------+---------+-----------+-------+---------+----------+----------+--------+--------+------------+---------+------------+------------+--------+--------+------------+------------+-----------+------------+----------+----------+-----------+----------+-----------+------------+----------+----------+----------+----------+----------+----------+-----------+-------------+---------+-----------+--------+------+-----+-----------+-------+------+------+--------+-------------+---------+\n",
            "| Id|MSSubClass|MSZoning|LotFrontage|LotArea|Street|Alley|LotShape|LandContour|Utilities|LotConfig|LandSlope|Neighborhood|Condition1|Condition2|BldgType|HouseStyle|OverallQual|OverallCond|YearBuilt|YearRemodAdd|RoofStyle|RoofMatl|Exterior1st|Exterior2nd|MasVnrType|MasVnrArea|ExterQual|ExterCond|Foundation|BsmtQual|BsmtCond|BsmtExposure|BsmtFinType1|BsmtFinSF1|BsmtFinType2|BsmtFinSF2|BsmtUnfSF|TotalBsmtSF|Heating|HeatingQC|CentralAir|Electrical|1stFlrSF|2ndFlrSF|LowQualFinSF|GrLivArea|BsmtFullBath|BsmtHalfBath|FullBath|HalfBath|BedroomAbvGr|KitchenAbvGr|KitchenQual|TotRmsAbvGrd|Functional|Fireplaces|FireplaceQu|GarageType|GarageYrBlt|GarageFinish|GarageCars|GarageArea|GarageQual|GarageCond|PavedDrive|WoodDeckSF|OpenPorchSF|EnclosedPorch|3SsnPorch|ScreenPorch|PoolArea|PoolQC|Fence|MiscFeature|MiscVal|MoSold|YrSold|SaleType|SaleCondition|SalePrice|\n",
            "+---+----------+--------+-----------+-------+------+-----+--------+-----------+---------+---------+---------+------------+----------+----------+--------+----------+-----------+-----------+---------+------------+---------+--------+-----------+-----------+----------+----------+---------+---------+----------+--------+--------+------------+------------+----------+------------+----------+---------+-----------+-------+---------+----------+----------+--------+--------+------------+---------+------------+------------+--------+--------+------------+------------+-----------+------------+----------+----------+-----------+----------+-----------+------------+----------+----------+----------+----------+----------+----------+-----------+-------------+---------+-----------+--------+------+-----+-----------+-------+------+------+--------+-------------+---------+\n",
            "|  0|         0|       0|          0|      0|     0|    0|       0|          0|        0|        0|        0|           0|         0|         0|       0|         0|          0|          0|        0|           0|        0|       0|          0|          0|         0|         0|        0|        0|         0|       0|       0|           0|           0|         0|           0|         0|        0|          0|      0|        0|         0|         0|       0|       0|           0|        0|           0|           0|       0|       0|           0|           0|          0|           0|         0|         0|          0|         0|          0|           0|         0|         0|         0|         0|         0|         0|          0|            0|        0|          0|       0|     0|    0|          0|      0|     0|     0|       0|            0|        0|\n",
            "+---+----------+--------+-----------+-------+------+-----+--------+-----------+---------+---------+---------+------------+----------+----------+--------+----------+-----------+-----------+---------+------------+---------+--------+-----------+-----------+----------+----------+---------+---------+----------+--------+--------+------------+------------+----------+------------+----------+---------+-----------+-------+---------+----------+----------+--------+--------+------------+---------+------------+------------+--------+--------+------------+------------+-----------+------------+----------+----------+-----------+----------+-----------+------------+----------+----------+----------+----------+----------+----------+-----------+-------------+---------+-----------+--------+------+-----+-----------+-------+------+------+--------+-------------+---------+\n",
            "\n"
          ]
        }
      ],
      "source": [
        "df_train.select([count(when(isnull(c), c)).alias(c) for c in df_train.columns]).show()"
      ]
    },
    {
      "cell_type": "code",
      "execution_count": 401,
      "metadata": {
        "colab": {
          "base_uri": "https://localhost:8080/"
        },
        "id": "mlYg86CFECwN",
        "outputId": "6176e066-e9e1-453a-c89c-bf30db0cae17"
      },
      "outputs": [
        {
          "name": "stdout",
          "output_type": "stream",
          "text": [
            "+---+----------+--------+-----------+-------+------+-----+--------+-----------+---------+---------+---------+------------+----------+----------+--------+----------+-----------+-----------+---------+------------+---------+--------+-----------+-----------+----------+----------+---------+---------+----------+--------+--------+------------+------------+----------+------------+----------+---------+-----------+-------+---------+----------+----------+--------+--------+------------+---------+------------+------------+--------+--------+------------+------------+-----------+------------+----------+----------+-----------+----------+-----------+------------+----------+----------+----------+----------+----------+----------+-----------+-------------+---------+-----------+--------+------+-----+-----------+-------+------+------+--------+-------------+\n",
            "| Id|MSSubClass|MSZoning|LotFrontage|LotArea|Street|Alley|LotShape|LandContour|Utilities|LotConfig|LandSlope|Neighborhood|Condition1|Condition2|BldgType|HouseStyle|OverallQual|OverallCond|YearBuilt|YearRemodAdd|RoofStyle|RoofMatl|Exterior1st|Exterior2nd|MasVnrType|MasVnrArea|ExterQual|ExterCond|Foundation|BsmtQual|BsmtCond|BsmtExposure|BsmtFinType1|BsmtFinSF1|BsmtFinType2|BsmtFinSF2|BsmtUnfSF|TotalBsmtSF|Heating|HeatingQC|CentralAir|Electrical|1stFlrSF|2ndFlrSF|LowQualFinSF|GrLivArea|BsmtFullBath|BsmtHalfBath|FullBath|HalfBath|BedroomAbvGr|KitchenAbvGr|KitchenQual|TotRmsAbvGrd|Functional|Fireplaces|FireplaceQu|GarageType|GarageYrBlt|GarageFinish|GarageCars|GarageArea|GarageQual|GarageCond|PavedDrive|WoodDeckSF|OpenPorchSF|EnclosedPorch|3SsnPorch|ScreenPorch|PoolArea|PoolQC|Fence|MiscFeature|MiscVal|MoSold|YrSold|SaleType|SaleCondition|\n",
            "+---+----------+--------+-----------+-------+------+-----+--------+-----------+---------+---------+---------+------------+----------+----------+--------+----------+-----------+-----------+---------+------------+---------+--------+-----------+-----------+----------+----------+---------+---------+----------+--------+--------+------------+------------+----------+------------+----------+---------+-----------+-------+---------+----------+----------+--------+--------+------------+---------+------------+------------+--------+--------+------------+------------+-----------+------------+----------+----------+-----------+----------+-----------+------------+----------+----------+----------+----------+----------+----------+-----------+-------------+---------+-----------+--------+------+-----+-----------+-------+------+------+--------+-------------+\n",
            "|  0|         0|       0|          0|      0|     0|    0|       0|          0|        0|        0|        0|           0|         0|         0|       0|         0|          0|          0|        0|           0|        0|       0|          0|          0|         0|         0|        0|        0|         0|       0|       0|           0|           0|         1|           0|         1|        1|          1|      0|        0|         0|         0|       0|       0|           0|        0|           2|           2|       0|       0|           0|           0|          0|           0|         0|         0|          0|         0|          0|           0|         1|         1|         0|         0|         0|         0|          0|            0|        0|          0|       0|     0|    0|          0|      0|     0|     0|       0|            0|\n",
            "+---+----------+--------+-----------+-------+------+-----+--------+-----------+---------+---------+---------+------------+----------+----------+--------+----------+-----------+-----------+---------+------------+---------+--------+-----------+-----------+----------+----------+---------+---------+----------+--------+--------+------------+------------+----------+------------+----------+---------+-----------+-------+---------+----------+----------+--------+--------+------------+---------+------------+------------+--------+--------+------------+------------+-----------+------------+----------+----------+-----------+----------+-----------+------------+----------+----------+----------+----------+----------+----------+-----------+-------------+---------+-----------+--------+------+-----+-----------+-------+------+------+--------+-------------+\n",
            "\n"
          ]
        }
      ],
      "source": [
        "df_test.select([count(when(isnull(c), c)).alias(c) for c in df_test.columns]).show()"
      ]
    },
    {
      "cell_type": "code",
      "execution_count": 402,
      "metadata": {
        "id": "fiHA6AhUeUM0"
      },
      "outputs": [],
      "source": [
        "df_train = df_train.fillna(0) #We don't have any null values in train set, but doing\n",
        "df_test = df_test.fillna(0)  # filling null values with 0 in test set"
      ]
    },
    {
      "cell_type": "markdown",
      "metadata": {
        "id": "OMBdoiLJIc1R"
      },
      "source": [
        "Features Alley, PoolQC, Fence, MiscFeature has more than 80% of missing values, so we can drop these columns"
      ]
    },
    {
      "cell_type": "code",
      "execution_count": 403,
      "metadata": {
        "id": "VBbQOZSUsR6B"
      },
      "outputs": [],
      "source": [
        "df_train = df_train.drop(\"FireplaceQu\", \"Fence\", \"Alley\", \"MiscFeature\", \"PoolQC\")\n",
        "df_test = df_test.drop(\"FireplaceQu\", \"Fence\", \"Alley\", \"MiscFeature\", \"PoolQC\")"
      ]
    },
    {
      "cell_type": "code",
      "execution_count": 404,
      "metadata": {
        "id": "-oedg6UYVpbs"
      },
      "outputs": [],
      "source": [
        "#LotFrontage, MasVnrArea, GarageYrBlt are numerical col with some NA, replace with 0 and cast to int\n",
        "\n",
        "df_train = df_train.replace(\"NA\", \"0\" , subset=['LotFrontage', 'MasVnrArea', 'GarageYrBlt', 'BsmtFullBath', 'BsmtHalfBath'])\n",
        "df_test = df_test.replace(\"NA\", \"0\" , subset=['LotFrontage', 'MasVnrArea', 'GarageYrBlt', 'BsmtFullBath', 'BsmtHalfBath'])\n",
        "\n",
        "df_train = df_train.withColumn(\"LotFrontage\",  df_train[\"LotFrontage\"].cast('double')) \\\n",
        "                  .withColumn(\"MasVnrArea\",  df_train[\"MasVnrArea\"].cast('double')) \\\n",
        "                  .withColumn(\"BsmtFullBath\",  df_train[\"BsmtFullBath\"].cast('double')) \\\n",
        "                  .withColumn(\"BsmtHalfBath\",  df_train[\"BsmtHalfBath\"].cast('double')) \\\n",
        "                  .withColumn(\"GarageYrBlt\",  df_train[\"GarageYrBlt\"].cast('double'))\n",
        "df_test = df_test.withColumn(\"LotFrontage\",  df_test[\"LotFrontage\"].cast('double')) \\\n",
        "                  .withColumn(\"MasVnrArea\",  df_test[\"MasVnrArea\"].cast('double')) \\\n",
        "                  .withColumn(\"BsmtFullBath\",  df_test[\"BsmtFullBath\"].cast('double')) \\\n",
        "                  .withColumn(\"BsmtHalfBath\",  df_test[\"BsmtHalfBath\"].cast('double')) \\\n",
        "                  .withColumn(\"GarageYrBlt\",  df_test[\"GarageYrBlt\"].cast('double'))"
      ]
    },
    {
      "cell_type": "code",
      "execution_count": 405,
      "metadata": {
        "colab": {
          "base_uri": "https://localhost:8080/",
          "height": 1000
        },
        "id": "Ssu27vDUHAFs",
        "outputId": "07d8187e-7def-4fb2-dca9-1c07bf595567"
      },
      "outputs": [
        {
          "data": {
            "text/html": [
              "\n",
              "\n",
              "  <div id=\"df-22390811-6b92-4be3-806c-eb5440484271\">\n",
              "    <div class=\"colab-df-container\">\n",
              "      <div>\n",
              "<style scoped>\n",
              "    .dataframe tbody tr th:only-of-type {\n",
              "        vertical-align: middle;\n",
              "    }\n",
              "\n",
              "    .dataframe tbody tr th {\n",
              "        vertical-align: top;\n",
              "    }\n",
              "\n",
              "    .dataframe thead th {\n",
              "        text-align: right;\n",
              "    }\n",
              "</style>\n",
              "<table border=\"1\" class=\"dataframe\">\n",
              "  <thead>\n",
              "    <tr style=\"text-align: right;\">\n",
              "      <th></th>\n",
              "      <th>count</th>\n",
              "      <th>mean</th>\n",
              "      <th>std</th>\n",
              "      <th>min</th>\n",
              "      <th>25%</th>\n",
              "      <th>50%</th>\n",
              "      <th>75%</th>\n",
              "      <th>max</th>\n",
              "    </tr>\n",
              "  </thead>\n",
              "  <tbody>\n",
              "    <tr>\n",
              "      <th>Id</th>\n",
              "      <td>1460.0</td>\n",
              "      <td>730.500000</td>\n",
              "      <td>421.610009</td>\n",
              "      <td>1.0</td>\n",
              "      <td>365.75</td>\n",
              "      <td>730.5</td>\n",
              "      <td>1095.25</td>\n",
              "      <td>1460.0</td>\n",
              "    </tr>\n",
              "    <tr>\n",
              "      <th>MSSubClass</th>\n",
              "      <td>1460.0</td>\n",
              "      <td>56.897260</td>\n",
              "      <td>42.300571</td>\n",
              "      <td>20.0</td>\n",
              "      <td>20.00</td>\n",
              "      <td>50.0</td>\n",
              "      <td>70.00</td>\n",
              "      <td>190.0</td>\n",
              "    </tr>\n",
              "    <tr>\n",
              "      <th>LotFrontage</th>\n",
              "      <td>1460.0</td>\n",
              "      <td>57.623288</td>\n",
              "      <td>34.664304</td>\n",
              "      <td>0.0</td>\n",
              "      <td>42.00</td>\n",
              "      <td>63.0</td>\n",
              "      <td>79.00</td>\n",
              "      <td>313.0</td>\n",
              "    </tr>\n",
              "    <tr>\n",
              "      <th>LotArea</th>\n",
              "      <td>1460.0</td>\n",
              "      <td>10516.828082</td>\n",
              "      <td>9981.264932</td>\n",
              "      <td>1300.0</td>\n",
              "      <td>7553.50</td>\n",
              "      <td>9478.5</td>\n",
              "      <td>11601.50</td>\n",
              "      <td>215245.0</td>\n",
              "    </tr>\n",
              "    <tr>\n",
              "      <th>OverallQual</th>\n",
              "      <td>1460.0</td>\n",
              "      <td>6.099315</td>\n",
              "      <td>1.382997</td>\n",
              "      <td>1.0</td>\n",
              "      <td>5.00</td>\n",
              "      <td>6.0</td>\n",
              "      <td>7.00</td>\n",
              "      <td>10.0</td>\n",
              "    </tr>\n",
              "    <tr>\n",
              "      <th>OverallCond</th>\n",
              "      <td>1460.0</td>\n",
              "      <td>5.575342</td>\n",
              "      <td>1.112799</td>\n",
              "      <td>1.0</td>\n",
              "      <td>5.00</td>\n",
              "      <td>5.0</td>\n",
              "      <td>6.00</td>\n",
              "      <td>9.0</td>\n",
              "    </tr>\n",
              "    <tr>\n",
              "      <th>YearBuilt</th>\n",
              "      <td>1460.0</td>\n",
              "      <td>1971.267808</td>\n",
              "      <td>30.202904</td>\n",
              "      <td>1872.0</td>\n",
              "      <td>1954.00</td>\n",
              "      <td>1973.0</td>\n",
              "      <td>2000.00</td>\n",
              "      <td>2010.0</td>\n",
              "    </tr>\n",
              "    <tr>\n",
              "      <th>YearRemodAdd</th>\n",
              "      <td>1460.0</td>\n",
              "      <td>1984.865753</td>\n",
              "      <td>20.645407</td>\n",
              "      <td>1950.0</td>\n",
              "      <td>1967.00</td>\n",
              "      <td>1994.0</td>\n",
              "      <td>2004.00</td>\n",
              "      <td>2010.0</td>\n",
              "    </tr>\n",
              "    <tr>\n",
              "      <th>MasVnrArea</th>\n",
              "      <td>1460.0</td>\n",
              "      <td>103.117123</td>\n",
              "      <td>180.731373</td>\n",
              "      <td>0.0</td>\n",
              "      <td>0.00</td>\n",
              "      <td>0.0</td>\n",
              "      <td>164.25</td>\n",
              "      <td>1600.0</td>\n",
              "    </tr>\n",
              "    <tr>\n",
              "      <th>BsmtFinSF1</th>\n",
              "      <td>1460.0</td>\n",
              "      <td>443.639726</td>\n",
              "      <td>456.098091</td>\n",
              "      <td>0.0</td>\n",
              "      <td>0.00</td>\n",
              "      <td>383.5</td>\n",
              "      <td>712.25</td>\n",
              "      <td>5644.0</td>\n",
              "    </tr>\n",
              "    <tr>\n",
              "      <th>BsmtFinSF2</th>\n",
              "      <td>1460.0</td>\n",
              "      <td>46.549315</td>\n",
              "      <td>161.319273</td>\n",
              "      <td>0.0</td>\n",
              "      <td>0.00</td>\n",
              "      <td>0.0</td>\n",
              "      <td>0.00</td>\n",
              "      <td>1474.0</td>\n",
              "    </tr>\n",
              "    <tr>\n",
              "      <th>BsmtUnfSF</th>\n",
              "      <td>1460.0</td>\n",
              "      <td>567.240411</td>\n",
              "      <td>441.866955</td>\n",
              "      <td>0.0</td>\n",
              "      <td>223.00</td>\n",
              "      <td>477.5</td>\n",
              "      <td>808.00</td>\n",
              "      <td>2336.0</td>\n",
              "    </tr>\n",
              "    <tr>\n",
              "      <th>TotalBsmtSF</th>\n",
              "      <td>1460.0</td>\n",
              "      <td>1057.429452</td>\n",
              "      <td>438.705324</td>\n",
              "      <td>0.0</td>\n",
              "      <td>795.75</td>\n",
              "      <td>991.5</td>\n",
              "      <td>1298.25</td>\n",
              "      <td>6110.0</td>\n",
              "    </tr>\n",
              "    <tr>\n",
              "      <th>1stFlrSF</th>\n",
              "      <td>1460.0</td>\n",
              "      <td>1162.626712</td>\n",
              "      <td>386.587738</td>\n",
              "      <td>334.0</td>\n",
              "      <td>882.00</td>\n",
              "      <td>1087.0</td>\n",
              "      <td>1391.25</td>\n",
              "      <td>4692.0</td>\n",
              "    </tr>\n",
              "    <tr>\n",
              "      <th>2ndFlrSF</th>\n",
              "      <td>1460.0</td>\n",
              "      <td>346.992466</td>\n",
              "      <td>436.528436</td>\n",
              "      <td>0.0</td>\n",
              "      <td>0.00</td>\n",
              "      <td>0.0</td>\n",
              "      <td>728.00</td>\n",
              "      <td>2065.0</td>\n",
              "    </tr>\n",
              "    <tr>\n",
              "      <th>LowQualFinSF</th>\n",
              "      <td>1460.0</td>\n",
              "      <td>5.844521</td>\n",
              "      <td>48.623081</td>\n",
              "      <td>0.0</td>\n",
              "      <td>0.00</td>\n",
              "      <td>0.0</td>\n",
              "      <td>0.00</td>\n",
              "      <td>572.0</td>\n",
              "    </tr>\n",
              "    <tr>\n",
              "      <th>GrLivArea</th>\n",
              "      <td>1460.0</td>\n",
              "      <td>1515.463699</td>\n",
              "      <td>525.480383</td>\n",
              "      <td>334.0</td>\n",
              "      <td>1129.50</td>\n",
              "      <td>1464.0</td>\n",
              "      <td>1776.75</td>\n",
              "      <td>5642.0</td>\n",
              "    </tr>\n",
              "    <tr>\n",
              "      <th>BsmtFullBath</th>\n",
              "      <td>1460.0</td>\n",
              "      <td>0.425342</td>\n",
              "      <td>0.518911</td>\n",
              "      <td>0.0</td>\n",
              "      <td>0.00</td>\n",
              "      <td>0.0</td>\n",
              "      <td>1.00</td>\n",
              "      <td>3.0</td>\n",
              "    </tr>\n",
              "    <tr>\n",
              "      <th>BsmtHalfBath</th>\n",
              "      <td>1460.0</td>\n",
              "      <td>0.057534</td>\n",
              "      <td>0.238753</td>\n",
              "      <td>0.0</td>\n",
              "      <td>0.00</td>\n",
              "      <td>0.0</td>\n",
              "      <td>0.00</td>\n",
              "      <td>2.0</td>\n",
              "    </tr>\n",
              "    <tr>\n",
              "      <th>FullBath</th>\n",
              "      <td>1460.0</td>\n",
              "      <td>1.565068</td>\n",
              "      <td>0.550916</td>\n",
              "      <td>0.0</td>\n",
              "      <td>1.00</td>\n",
              "      <td>2.0</td>\n",
              "      <td>2.00</td>\n",
              "      <td>3.0</td>\n",
              "    </tr>\n",
              "    <tr>\n",
              "      <th>HalfBath</th>\n",
              "      <td>1460.0</td>\n",
              "      <td>0.382877</td>\n",
              "      <td>0.502885</td>\n",
              "      <td>0.0</td>\n",
              "      <td>0.00</td>\n",
              "      <td>0.0</td>\n",
              "      <td>1.00</td>\n",
              "      <td>2.0</td>\n",
              "    </tr>\n",
              "    <tr>\n",
              "      <th>BedroomAbvGr</th>\n",
              "      <td>1460.0</td>\n",
              "      <td>2.866438</td>\n",
              "      <td>0.815778</td>\n",
              "      <td>0.0</td>\n",
              "      <td>2.00</td>\n",
              "      <td>3.0</td>\n",
              "      <td>3.00</td>\n",
              "      <td>8.0</td>\n",
              "    </tr>\n",
              "    <tr>\n",
              "      <th>KitchenAbvGr</th>\n",
              "      <td>1460.0</td>\n",
              "      <td>1.046575</td>\n",
              "      <td>0.220338</td>\n",
              "      <td>0.0</td>\n",
              "      <td>1.00</td>\n",
              "      <td>1.0</td>\n",
              "      <td>1.00</td>\n",
              "      <td>3.0</td>\n",
              "    </tr>\n",
              "    <tr>\n",
              "      <th>TotRmsAbvGrd</th>\n",
              "      <td>1460.0</td>\n",
              "      <td>6.517808</td>\n",
              "      <td>1.625393</td>\n",
              "      <td>2.0</td>\n",
              "      <td>5.00</td>\n",
              "      <td>6.0</td>\n",
              "      <td>7.00</td>\n",
              "      <td>14.0</td>\n",
              "    </tr>\n",
              "    <tr>\n",
              "      <th>Fireplaces</th>\n",
              "      <td>1460.0</td>\n",
              "      <td>0.613014</td>\n",
              "      <td>0.644666</td>\n",
              "      <td>0.0</td>\n",
              "      <td>0.00</td>\n",
              "      <td>1.0</td>\n",
              "      <td>1.00</td>\n",
              "      <td>3.0</td>\n",
              "    </tr>\n",
              "    <tr>\n",
              "      <th>GarageYrBlt</th>\n",
              "      <td>1460.0</td>\n",
              "      <td>1868.739726</td>\n",
              "      <td>453.697295</td>\n",
              "      <td>0.0</td>\n",
              "      <td>1958.00</td>\n",
              "      <td>1977.0</td>\n",
              "      <td>2001.00</td>\n",
              "      <td>2010.0</td>\n",
              "    </tr>\n",
              "    <tr>\n",
              "      <th>GarageCars</th>\n",
              "      <td>1460.0</td>\n",
              "      <td>1.767123</td>\n",
              "      <td>0.747315</td>\n",
              "      <td>0.0</td>\n",
              "      <td>1.00</td>\n",
              "      <td>2.0</td>\n",
              "      <td>2.00</td>\n",
              "      <td>4.0</td>\n",
              "    </tr>\n",
              "    <tr>\n",
              "      <th>GarageArea</th>\n",
              "      <td>1460.0</td>\n",
              "      <td>472.980137</td>\n",
              "      <td>213.804841</td>\n",
              "      <td>0.0</td>\n",
              "      <td>334.50</td>\n",
              "      <td>480.0</td>\n",
              "      <td>576.00</td>\n",
              "      <td>1418.0</td>\n",
              "    </tr>\n",
              "    <tr>\n",
              "      <th>WoodDeckSF</th>\n",
              "      <td>1460.0</td>\n",
              "      <td>94.244521</td>\n",
              "      <td>125.338794</td>\n",
              "      <td>0.0</td>\n",
              "      <td>0.00</td>\n",
              "      <td>0.0</td>\n",
              "      <td>168.00</td>\n",
              "      <td>857.0</td>\n",
              "    </tr>\n",
              "    <tr>\n",
              "      <th>OpenPorchSF</th>\n",
              "      <td>1460.0</td>\n",
              "      <td>46.660274</td>\n",
              "      <td>66.256028</td>\n",
              "      <td>0.0</td>\n",
              "      <td>0.00</td>\n",
              "      <td>25.0</td>\n",
              "      <td>68.00</td>\n",
              "      <td>547.0</td>\n",
              "    </tr>\n",
              "    <tr>\n",
              "      <th>EnclosedPorch</th>\n",
              "      <td>1460.0</td>\n",
              "      <td>21.954110</td>\n",
              "      <td>61.119149</td>\n",
              "      <td>0.0</td>\n",
              "      <td>0.00</td>\n",
              "      <td>0.0</td>\n",
              "      <td>0.00</td>\n",
              "      <td>552.0</td>\n",
              "    </tr>\n",
              "    <tr>\n",
              "      <th>3SsnPorch</th>\n",
              "      <td>1460.0</td>\n",
              "      <td>3.409589</td>\n",
              "      <td>29.317331</td>\n",
              "      <td>0.0</td>\n",
              "      <td>0.00</td>\n",
              "      <td>0.0</td>\n",
              "      <td>0.00</td>\n",
              "      <td>508.0</td>\n",
              "    </tr>\n",
              "    <tr>\n",
              "      <th>ScreenPorch</th>\n",
              "      <td>1460.0</td>\n",
              "      <td>15.060959</td>\n",
              "      <td>55.757415</td>\n",
              "      <td>0.0</td>\n",
              "      <td>0.00</td>\n",
              "      <td>0.0</td>\n",
              "      <td>0.00</td>\n",
              "      <td>480.0</td>\n",
              "    </tr>\n",
              "    <tr>\n",
              "      <th>PoolArea</th>\n",
              "      <td>1460.0</td>\n",
              "      <td>2.758904</td>\n",
              "      <td>40.177307</td>\n",
              "      <td>0.0</td>\n",
              "      <td>0.00</td>\n",
              "      <td>0.0</td>\n",
              "      <td>0.00</td>\n",
              "      <td>738.0</td>\n",
              "    </tr>\n",
              "    <tr>\n",
              "      <th>MiscVal</th>\n",
              "      <td>1460.0</td>\n",
              "      <td>43.489041</td>\n",
              "      <td>496.123024</td>\n",
              "      <td>0.0</td>\n",
              "      <td>0.00</td>\n",
              "      <td>0.0</td>\n",
              "      <td>0.00</td>\n",
              "      <td>15500.0</td>\n",
              "    </tr>\n",
              "    <tr>\n",
              "      <th>MoSold</th>\n",
              "      <td>1460.0</td>\n",
              "      <td>6.321918</td>\n",
              "      <td>2.703626</td>\n",
              "      <td>1.0</td>\n",
              "      <td>5.00</td>\n",
              "      <td>6.0</td>\n",
              "      <td>8.00</td>\n",
              "      <td>12.0</td>\n",
              "    </tr>\n",
              "    <tr>\n",
              "      <th>YrSold</th>\n",
              "      <td>1460.0</td>\n",
              "      <td>2007.815753</td>\n",
              "      <td>1.328095</td>\n",
              "      <td>2006.0</td>\n",
              "      <td>2007.00</td>\n",
              "      <td>2008.0</td>\n",
              "      <td>2009.00</td>\n",
              "      <td>2010.0</td>\n",
              "    </tr>\n",
              "    <tr>\n",
              "      <th>SalePrice</th>\n",
              "      <td>1460.0</td>\n",
              "      <td>180921.195890</td>\n",
              "      <td>79442.502883</td>\n",
              "      <td>34900.0</td>\n",
              "      <td>129975.00</td>\n",
              "      <td>163000.0</td>\n",
              "      <td>214000.00</td>\n",
              "      <td>755000.0</td>\n",
              "    </tr>\n",
              "  </tbody>\n",
              "</table>\n",
              "</div>\n",
              "      <button class=\"colab-df-convert\" onclick=\"convertToInteractive('df-22390811-6b92-4be3-806c-eb5440484271')\"\n",
              "              title=\"Convert this dataframe to an interactive table.\"\n",
              "              style=\"display:none;\">\n",
              "\n",
              "  <svg xmlns=\"http://www.w3.org/2000/svg\" height=\"24px\"viewBox=\"0 0 24 24\"\n",
              "       width=\"24px\">\n",
              "    <path d=\"M0 0h24v24H0V0z\" fill=\"none\"/>\n",
              "    <path d=\"M18.56 5.44l.94 2.06.94-2.06 2.06-.94-2.06-.94-.94-2.06-.94 2.06-2.06.94zm-11 1L8.5 8.5l.94-2.06 2.06-.94-2.06-.94L8.5 2.5l-.94 2.06-2.06.94zm10 10l.94 2.06.94-2.06 2.06-.94-2.06-.94-.94-2.06-.94 2.06-2.06.94z\"/><path d=\"M17.41 7.96l-1.37-1.37c-.4-.4-.92-.59-1.43-.59-.52 0-1.04.2-1.43.59L10.3 9.45l-7.72 7.72c-.78.78-.78 2.05 0 2.83L4 21.41c.39.39.9.59 1.41.59.51 0 1.02-.2 1.41-.59l7.78-7.78 2.81-2.81c.8-.78.8-2.07 0-2.86zM5.41 20L4 18.59l7.72-7.72 1.47 1.35L5.41 20z\"/>\n",
              "  </svg>\n",
              "      </button>\n",
              "\n",
              "\n",
              "\n",
              "    <div id=\"df-d75dd1d8-1f3f-46a0-beea-6cb54d331fc7\">\n",
              "      <button class=\"colab-df-quickchart\" onclick=\"quickchart('df-d75dd1d8-1f3f-46a0-beea-6cb54d331fc7')\"\n",
              "              title=\"Suggest charts.\"\n",
              "              style=\"display:none;\">\n",
              "\n",
              "<svg xmlns=\"http://www.w3.org/2000/svg\" height=\"24px\"viewBox=\"0 0 24 24\"\n",
              "     width=\"24px\">\n",
              "    <g>\n",
              "        <path d=\"M19 3H5c-1.1 0-2 .9-2 2v14c0 1.1.9 2 2 2h14c1.1 0 2-.9 2-2V5c0-1.1-.9-2-2-2zM9 17H7v-7h2v7zm4 0h-2V7h2v10zm4 0h-2v-4h2v4z\"/>\n",
              "    </g>\n",
              "</svg>\n",
              "      </button>\n",
              "    </div>\n",
              "\n",
              "<style>\n",
              "  .colab-df-quickchart {\n",
              "    background-color: #E8F0FE;\n",
              "    border: none;\n",
              "    border-radius: 50%;\n",
              "    cursor: pointer;\n",
              "    display: none;\n",
              "    fill: #1967D2;\n",
              "    height: 32px;\n",
              "    padding: 0 0 0 0;\n",
              "    width: 32px;\n",
              "  }\n",
              "\n",
              "  .colab-df-quickchart:hover {\n",
              "    background-color: #E2EBFA;\n",
              "    box-shadow: 0px 1px 2px rgba(60, 64, 67, 0.3), 0px 1px 3px 1px rgba(60, 64, 67, 0.15);\n",
              "    fill: #174EA6;\n",
              "  }\n",
              "\n",
              "  [theme=dark] .colab-df-quickchart {\n",
              "    background-color: #3B4455;\n",
              "    fill: #D2E3FC;\n",
              "  }\n",
              "\n",
              "  [theme=dark] .colab-df-quickchart:hover {\n",
              "    background-color: #434B5C;\n",
              "    box-shadow: 0px 1px 3px 1px rgba(0, 0, 0, 0.15);\n",
              "    filter: drop-shadow(0px 1px 2px rgba(0, 0, 0, 0.3));\n",
              "    fill: #FFFFFF;\n",
              "  }\n",
              "</style>\n",
              "\n",
              "    <script>\n",
              "      async function quickchart(key) {\n",
              "        const containerElement = document.querySelector('#' + key);\n",
              "        const charts = await google.colab.kernel.invokeFunction(\n",
              "            'suggestCharts', [key], {});\n",
              "      }\n",
              "    </script>\n",
              "\n",
              "      <script>\n",
              "\n",
              "function displayQuickchartButton(domScope) {\n",
              "  let quickchartButtonEl =\n",
              "    domScope.querySelector('#df-d75dd1d8-1f3f-46a0-beea-6cb54d331fc7 button.colab-df-quickchart');\n",
              "  quickchartButtonEl.style.display =\n",
              "    google.colab.kernel.accessAllowed ? 'block' : 'none';\n",
              "}\n",
              "\n",
              "        displayQuickchartButton(document);\n",
              "      </script>\n",
              "      <style>\n",
              "    .colab-df-container {\n",
              "      display:flex;\n",
              "      flex-wrap:wrap;\n",
              "      gap: 12px;\n",
              "    }\n",
              "\n",
              "    .colab-df-convert {\n",
              "      background-color: #E8F0FE;\n",
              "      border: none;\n",
              "      border-radius: 50%;\n",
              "      cursor: pointer;\n",
              "      display: none;\n",
              "      fill: #1967D2;\n",
              "      height: 32px;\n",
              "      padding: 0 0 0 0;\n",
              "      width: 32px;\n",
              "    }\n",
              "\n",
              "    .colab-df-convert:hover {\n",
              "      background-color: #E2EBFA;\n",
              "      box-shadow: 0px 1px 2px rgba(60, 64, 67, 0.3), 0px 1px 3px 1px rgba(60, 64, 67, 0.15);\n",
              "      fill: #174EA6;\n",
              "    }\n",
              "\n",
              "    [theme=dark] .colab-df-convert {\n",
              "      background-color: #3B4455;\n",
              "      fill: #D2E3FC;\n",
              "    }\n",
              "\n",
              "    [theme=dark] .colab-df-convert:hover {\n",
              "      background-color: #434B5C;\n",
              "      box-shadow: 0px 1px 3px 1px rgba(0, 0, 0, 0.15);\n",
              "      filter: drop-shadow(0px 1px 2px rgba(0, 0, 0, 0.3));\n",
              "      fill: #FFFFFF;\n",
              "    }\n",
              "  </style>\n",
              "\n",
              "      <script>\n",
              "        const buttonEl =\n",
              "          document.querySelector('#df-22390811-6b92-4be3-806c-eb5440484271 button.colab-df-convert');\n",
              "        buttonEl.style.display =\n",
              "          google.colab.kernel.accessAllowed ? 'block' : 'none';\n",
              "\n",
              "        async function convertToInteractive(key) {\n",
              "          const element = document.querySelector('#df-22390811-6b92-4be3-806c-eb5440484271');\n",
              "          const dataTable =\n",
              "            await google.colab.kernel.invokeFunction('convertToInteractive',\n",
              "                                                     [key], {});\n",
              "          if (!dataTable) return;\n",
              "\n",
              "          const docLinkHtml = 'Like what you see? Visit the ' +\n",
              "            '<a target=\"_blank\" href=https://colab.research.google.com/notebooks/data_table.ipynb>data table notebook</a>'\n",
              "            + ' to learn more about interactive tables.';\n",
              "          element.innerHTML = '';\n",
              "          dataTable['output_type'] = 'display_data';\n",
              "          await google.colab.output.renderOutput(dataTable, element);\n",
              "          const docLink = document.createElement('div');\n",
              "          docLink.innerHTML = docLinkHtml;\n",
              "          element.appendChild(docLink);\n",
              "        }\n",
              "      </script>\n",
              "    </div>\n",
              "  </div>\n"
            ],
            "text/plain": [
              "                count           mean           std      min        25%  \\\n",
              "Id             1460.0     730.500000    421.610009      1.0     365.75   \n",
              "MSSubClass     1460.0      56.897260     42.300571     20.0      20.00   \n",
              "LotFrontage    1460.0      57.623288     34.664304      0.0      42.00   \n",
              "LotArea        1460.0   10516.828082   9981.264932   1300.0    7553.50   \n",
              "OverallQual    1460.0       6.099315      1.382997      1.0       5.00   \n",
              "OverallCond    1460.0       5.575342      1.112799      1.0       5.00   \n",
              "YearBuilt      1460.0    1971.267808     30.202904   1872.0    1954.00   \n",
              "YearRemodAdd   1460.0    1984.865753     20.645407   1950.0    1967.00   \n",
              "MasVnrArea     1460.0     103.117123    180.731373      0.0       0.00   \n",
              "BsmtFinSF1     1460.0     443.639726    456.098091      0.0       0.00   \n",
              "BsmtFinSF2     1460.0      46.549315    161.319273      0.0       0.00   \n",
              "BsmtUnfSF      1460.0     567.240411    441.866955      0.0     223.00   \n",
              "TotalBsmtSF    1460.0    1057.429452    438.705324      0.0     795.75   \n",
              "1stFlrSF       1460.0    1162.626712    386.587738    334.0     882.00   \n",
              "2ndFlrSF       1460.0     346.992466    436.528436      0.0       0.00   \n",
              "LowQualFinSF   1460.0       5.844521     48.623081      0.0       0.00   \n",
              "GrLivArea      1460.0    1515.463699    525.480383    334.0    1129.50   \n",
              "BsmtFullBath   1460.0       0.425342      0.518911      0.0       0.00   \n",
              "BsmtHalfBath   1460.0       0.057534      0.238753      0.0       0.00   \n",
              "FullBath       1460.0       1.565068      0.550916      0.0       1.00   \n",
              "HalfBath       1460.0       0.382877      0.502885      0.0       0.00   \n",
              "BedroomAbvGr   1460.0       2.866438      0.815778      0.0       2.00   \n",
              "KitchenAbvGr   1460.0       1.046575      0.220338      0.0       1.00   \n",
              "TotRmsAbvGrd   1460.0       6.517808      1.625393      2.0       5.00   \n",
              "Fireplaces     1460.0       0.613014      0.644666      0.0       0.00   \n",
              "GarageYrBlt    1460.0    1868.739726    453.697295      0.0    1958.00   \n",
              "GarageCars     1460.0       1.767123      0.747315      0.0       1.00   \n",
              "GarageArea     1460.0     472.980137    213.804841      0.0     334.50   \n",
              "WoodDeckSF     1460.0      94.244521    125.338794      0.0       0.00   \n",
              "OpenPorchSF    1460.0      46.660274     66.256028      0.0       0.00   \n",
              "EnclosedPorch  1460.0      21.954110     61.119149      0.0       0.00   \n",
              "3SsnPorch      1460.0       3.409589     29.317331      0.0       0.00   \n",
              "ScreenPorch    1460.0      15.060959     55.757415      0.0       0.00   \n",
              "PoolArea       1460.0       2.758904     40.177307      0.0       0.00   \n",
              "MiscVal        1460.0      43.489041    496.123024      0.0       0.00   \n",
              "MoSold         1460.0       6.321918      2.703626      1.0       5.00   \n",
              "YrSold         1460.0    2007.815753      1.328095   2006.0    2007.00   \n",
              "SalePrice      1460.0  180921.195890  79442.502883  34900.0  129975.00   \n",
              "\n",
              "                    50%        75%       max  \n",
              "Id                730.5    1095.25    1460.0  \n",
              "MSSubClass         50.0      70.00     190.0  \n",
              "LotFrontage        63.0      79.00     313.0  \n",
              "LotArea          9478.5   11601.50  215245.0  \n",
              "OverallQual         6.0       7.00      10.0  \n",
              "OverallCond         5.0       6.00       9.0  \n",
              "YearBuilt        1973.0    2000.00    2010.0  \n",
              "YearRemodAdd     1994.0    2004.00    2010.0  \n",
              "MasVnrArea          0.0     164.25    1600.0  \n",
              "BsmtFinSF1        383.5     712.25    5644.0  \n",
              "BsmtFinSF2          0.0       0.00    1474.0  \n",
              "BsmtUnfSF         477.5     808.00    2336.0  \n",
              "TotalBsmtSF       991.5    1298.25    6110.0  \n",
              "1stFlrSF         1087.0    1391.25    4692.0  \n",
              "2ndFlrSF            0.0     728.00    2065.0  \n",
              "LowQualFinSF        0.0       0.00     572.0  \n",
              "GrLivArea        1464.0    1776.75    5642.0  \n",
              "BsmtFullBath        0.0       1.00       3.0  \n",
              "BsmtHalfBath        0.0       0.00       2.0  \n",
              "FullBath            2.0       2.00       3.0  \n",
              "HalfBath            0.0       1.00       2.0  \n",
              "BedroomAbvGr        3.0       3.00       8.0  \n",
              "KitchenAbvGr        1.0       1.00       3.0  \n",
              "TotRmsAbvGrd        6.0       7.00      14.0  \n",
              "Fireplaces          1.0       1.00       3.0  \n",
              "GarageYrBlt      1977.0    2001.00    2010.0  \n",
              "GarageCars          2.0       2.00       4.0  \n",
              "GarageArea        480.0     576.00    1418.0  \n",
              "WoodDeckSF          0.0     168.00     857.0  \n",
              "OpenPorchSF        25.0      68.00     547.0  \n",
              "EnclosedPorch       0.0       0.00     552.0  \n",
              "3SsnPorch           0.0       0.00     508.0  \n",
              "ScreenPorch         0.0       0.00     480.0  \n",
              "PoolArea            0.0       0.00     738.0  \n",
              "MiscVal             0.0       0.00   15500.0  \n",
              "MoSold              6.0       8.00      12.0  \n",
              "YrSold           2008.0    2009.00    2010.0  \n",
              "SalePrice      163000.0  214000.00  755000.0  "
            ]
          },
          "execution_count": 405,
          "metadata": {},
          "output_type": "execute_result"
        }
      ],
      "source": [
        "df_train.toPandas().describe().T"
      ]
    },
    {
      "cell_type": "markdown",
      "metadata": {
        "id": "yaAxUiD7HBU0"
      },
      "source": [
        "Features like LotArea, BsmtFinSF1, BsmtUnfSF, TotalBsmtSF, 2ndFlrSF, GrLivArea, MiscVal, WoodDeckSF and even the target feature SalePrice is having high deviation"
      ]
    },
    {
      "cell_type": "markdown",
      "metadata": {
        "id": "IcKGUtL2Eqqg"
      },
      "source": [
        "\n",
        "In the remaining columns, replacing null values"
      ]
    },
    {
      "cell_type": "markdown",
      "metadata": {
        "id": "rKRG0-7yLWbr"
      },
      "source": [
        "\n",
        "In the categorical columns, NA represents feature not available. So replace these values with string \"NO\" to avoid confusion"
      ]
    },
    {
      "cell_type": "code",
      "execution_count": 406,
      "metadata": {
        "id": "7bia5BMi9kLC"
      },
      "outputs": [],
      "source": [
        "column_types = df_train.dtypes\n",
        "categoricalcolumns = [column for column, dtype in column_types if dtype == \"string\"]\n",
        "continuousCols =  [column for column, dtype in column_types if ((dtype == \"double\" or dtype =='int') and str(column) != \"SalePrice\")]"
      ]
    },
    {
      "cell_type": "code",
      "execution_count": 407,
      "metadata": {
        "id": "WDhFU3AblkS4"
      },
      "outputs": [],
      "source": [
        "df_train = df_train.replace('NA', 'NO', subset = categoricalcolumns)\n",
        "df_test = df_test.replace('NA', 'NO', subset = categoricalcolumns)"
      ]
    },
    {
      "cell_type": "code",
      "execution_count": 408,
      "metadata": {
        "colab": {
          "base_uri": "https://localhost:8080/"
        },
        "id": "PZuf85OinuBw",
        "outputId": "b0c1de95-e1f1-4a86-98cf-791ae56fb154"
      },
      "outputs": [
        {
          "name": "stdout",
          "output_type": "stream",
          "text": [
            "SBrkr\n"
          ]
        }
      ],
      "source": [
        "mode_elec = df_train.groupBy(F.col('Electrical')).count().orderBy(\"count\", ascending=False).first()[0]\n",
        "print(mode_elec)\n",
        "df_train = df_train.replace('NA', mode_elec, subset = ['Electrical'])\n",
        "df_test = df_test.replace('NA', mode_elec, subset = ['Electrical'])"
      ]
    },
    {
      "cell_type": "code",
      "execution_count": 409,
      "metadata": {
        "colab": {
          "base_uri": "https://localhost:8080/"
        },
        "id": "RjTusb8irq_r",
        "outputId": "8120ac22-75a6-4063-dfae-aad0b6e35d40"
      },
      "outputs": [
        {
          "name": "stdout",
          "output_type": "stream",
          "text": [
            "<class 'pandas.core.frame.DataFrame'>\n",
            "RangeIndex: 1460 entries, 0 to 1459\n",
            "Columns: 76 entries, Id to SalePrice\n",
            "dtypes: float64(11), int32(27), object(38)\n",
            "memory usage: 713.0+ KB\n"
          ]
        }
      ],
      "source": [
        "df_train.toPandas().info(verbose=False)"
      ]
    },
    {
      "cell_type": "code",
      "execution_count": 410,
      "metadata": {
        "colab": {
          "base_uri": "https://localhost:8080/"
        },
        "id": "7PrUEpYosImQ",
        "outputId": "830334ef-6986-473a-f7ee-85289725b22a"
      },
      "outputs": [
        {
          "data": {
            "text/plain": [
              "count      1460.000000\n",
              "mean     180921.195890\n",
              "std       79442.502883\n",
              "min       34900.000000\n",
              "25%      129975.000000\n",
              "50%      163000.000000\n",
              "75%      214000.000000\n",
              "max      755000.000000\n",
              "Name: SalePrice, dtype: float64"
            ]
          },
          "execution_count": 410,
          "metadata": {},
          "output_type": "execute_result"
        }
      ],
      "source": [
        "df = df_train.toPandas()\n",
        "df.SalePrice.describe()"
      ]
    },
    {
      "cell_type": "code",
      "execution_count": 411,
      "metadata": {
        "colab": {
          "base_uri": "https://localhost:8080/",
          "height": 585
        },
        "id": "uLY5lrlfs2cj",
        "outputId": "5f126cbb-13c2-4dbb-ee93-2869e729b67c"
      },
      "outputs": [
        {
          "data": {
            "text/plain": [
              "Text(0.5, 1.0, 'SalePrice Distribution Plot')"
            ]
          },
          "execution_count": 411,
          "metadata": {},
          "output_type": "execute_result"
        },
        {
          "data": {
            "image/png": "[encoded data removed]",
            "text/plain": [
              "<Figure size 1300x600 with 1 Axes>"
            ]
          },
          "metadata": {},
          "output_type": "display_data"
        }
      ],
      "source": [
        "\n",
        "plt.figure(figsize=(13,6))\n",
        "\n",
        "sns.histplot(df['SalePrice'] ,color=\"blue\",kde=True)\n",
        "plt.title(\"SalePrice Distribution Plot\",fontweight=\"black\",pad=10,size=10)"
      ]
    },
    {
      "cell_type": "markdown",
      "metadata": {
        "id": "RZSAnTmkt_bn"
      },
      "source": [
        "The target feature is having a right-skewed distribution due to presence of positive outliers."
      ]
    },
    {
      "cell_type": "code",
      "execution_count": 412,
      "metadata": {
        "colab": {
          "base_uri": "https://localhost:8080/",
          "height": 871
        },
        "id": "aUJT3t2FuZ0r",
        "outputId": "e4e0727d-2739-4f57-c05b-b9675078c258"
      },
      "outputs": [
        {
          "data": {
            "text/plain": [
              "Text(0.5, 1.0, 'Correlation with Target variable')"
            ]
          },
          "execution_count": 412,
          "metadata": {},
          "output_type": "execute_result"
        },
        {
          "data": {
            "image/png": "[encoded data removed]",
            "text/plain": [
              "<Figure size 1500x1000 with 2 Axes>"
            ]
          },
          "metadata": {},
          "output_type": "display_data"
        }
      ],
      "source": [
        "corr_with_target = df.drop(columns='SalePrice').corrwith(df['SalePrice'])\n",
        "plt.figure(figsize=(15,10))\n",
        "sns.heatmap(pd.DataFrame(corr_with_target),  cmap='YlGnBu', vmax=1.0, vmin=-1.0, annot = True,  annot_kws={\"size\": 5})\n",
        "plt.title('Correlation with Target variable')\n"
      ]
    },
    {
      "cell_type": "code",
      "execution_count": 413,
      "metadata": {
        "id": "eQLc7yloxfJw"
      },
      "outputs": [],
      "source": [
        "column_types = df_train.dtypes\n",
        "categoricalcolumns = [column for column, dtype in column_types if dtype == \"string\"]\n",
        "continuousCols =  [column for column, dtype in column_types if ((dtype != \"string\") and str(column) != \"SalePrice\")]\n",
        "\n"
      ]
    },
    {
      "cell_type": "code",
      "execution_count": 414,
      "metadata": {
        "colab": {
          "base_uri": "https://localhost:8080/",
          "height": 540
        },
        "id": "iL1ucv8TxfML",
        "outputId": "996befdd-79c3-46b0-8fef-d99824963371"
      },
      "outputs": [
        {
          "data": {
            "text/plain": [
              "<Axes: >"
            ]
          },
          "execution_count": 414,
          "metadata": {},
          "output_type": "execute_result"
        },
        {
          "data": {
            "image/png": "[encoded data removed]",
            "text/plain": [
              "<Figure size 640x480 with 1 Axes>"
            ]
          },
          "metadata": {},
          "output_type": "display_data"
        }
      ],
      "source": [
        "skewness = df[continuousCols].skew().sort_values().to_frame()\n",
        "skewness.plot.bar()\n"
      ]
    },
    {
      "cell_type": "markdown",
      "metadata": {
        "id": "gHa6ejHpqu7t"
      },
      "source": [
        "Features like 3SsnPorch,LowQualFinSF,LotArea,PoolArea and MiscVal are having extremly high skewness which can create model-complexity.\n",
        "We know that skewness should be near to zero for a normal distrbution to achieve that we can use different transformations."
      ]
    },
    {
      "cell_type": "code",
      "execution_count": 415,
      "metadata": {
        "colab": {
          "base_uri": "https://localhost:8080/",
          "height": 540
        },
        "id": "GGmuWeF_qv_r",
        "outputId": "66ddcef2-6fdc-45e2-a3c8-d5c6780747c7"
      },
      "outputs": [
        {
          "data": {
            "text/plain": [
              "<Axes: >"
            ]
          },
          "execution_count": 415,
          "metadata": {},
          "output_type": "execute_result"
        },
        {
          "data": {
            "image/png": "[encoded data removed]",
            "text/plain": [
              "<Figure size 640x480 with 1 Axes>"
            ]
          },
          "metadata": {},
          "output_type": "display_data"
        }
      ],
      "source": [
        "corr_matrix = df.drop(columns='SalePrice').corrwith(df['SalePrice']).sort_values()\n",
        "corr_matrix.plot.bar()\n"
      ]
    },
    {
      "cell_type": "code",
      "execution_count": 416,
      "metadata": {
        "id": "7AKL2Dr2r0G4"
      },
      "outputs": [],
      "source": [
        "#Features like LowQualFinSF,MiscVal,BsmtFinSF2,PoolArea,3SsnPorch,and ScreenPorch are having weak correlation with the target variable. So drop this features,\n",
        "\n",
        "df_train = df_train.drop('LowQualFinSF','MiscVal', 'BsmtFinSF2', 'PoolArea', '3SsnPorch','ScreenPorch')\n",
        "df_test = df_test.drop('LowQualFinSF','MiscVal', 'BsmtFinSF2', 'PoolArea', '3SsnPorch','ScreenPorch')"
      ]
    },
    {
      "cell_type": "markdown",
      "metadata": {
        "id": "vHRNEA6Au_fk"
      },
      "source": [
        "Creating a New Feature using all the columns storing \"Bathroom Values.\"\n",
        "FullBath: It shows total no. of Full bathrooms above grade.\n",
        "HalfBath: It shows total no. of Half bathrooms above grade.\n",
        "BsmtFullBath: It shows total no. of Basement full bathrooms.\n",
        "BsmtHalfBath: It shows total no. of Basement half bathrooms."
      ]
    },
    {
      "cell_type": "code",
      "execution_count": 417,
      "metadata": {
        "id": "BgI9ZkDaxfRo"
      },
      "outputs": [],
      "source": [
        "df_train = df_train.withColumn('Total_Bathrooms', df_train[\"FullBath\"] + (0.5 * df_train[\"HalfBath\"]) +\n",
        "                               df_train[\"BsmtFullBath\"] + (0.5 * df_train[\"BsmtHalfBath\"]))\n",
        "df_test = df_test.withColumn('Total_Bathrooms', df_test[\"FullBath\"] + (0.5 * df_test[\"HalfBath\"]) +\n",
        "                               df_test[\"BsmtFullBath\"] + (0.5 * df_test[\"BsmtHalfBath\"]))\n",
        "df_train = df_train.drop(\"FullBath\", \"HalfBath\", \"BsmtFullBath\", \"BsmtHalfBath\")\n",
        "df_test = df_test.drop(\"FullBath\", \"HalfBath\", \"BsmtFullBath\", \"BsmtHalfBath\")"
      ]
    },
    {
      "cell_type": "code",
      "execution_count": 418,
      "metadata": {
        "colab": {
          "base_uri": "https://localhost:8080/"
        },
        "id": "Y-dXCgUsxfVA",
        "outputId": "836370f1-2558-4ef7-8726-255ab5332bd8"
      },
      "outputs": [
        {
          "name": "stdout",
          "output_type": "stream",
          "text": [
            "+---------------+\n",
            "|Total_Bathrooms|\n",
            "+---------------+\n",
            "|            3.5|\n",
            "|            2.5|\n",
            "|            3.5|\n",
            "|            2.0|\n",
            "|            3.5|\n",
            "|            2.5|\n",
            "|            3.0|\n",
            "|            3.5|\n",
            "|            2.0|\n",
            "|            2.0|\n",
            "|            2.0|\n",
            "|            4.0|\n",
            "|            2.0|\n",
            "|            2.0|\n",
            "|            2.5|\n",
            "|            1.0|\n",
            "|            2.0|\n",
            "|            2.0|\n",
            "|            2.5|\n",
            "|            1.0|\n",
            "+---------------+\n",
            "only showing top 20 rows\n",
            "\n"
          ]
        }
      ],
      "source": [
        "df_train.select('Total_Bathrooms').show()"
      ]
    },
    {
      "cell_type": "code",
      "execution_count": 419,
      "metadata": {
        "id": "bqrszD4MnZYM"
      },
      "outputs": [],
      "source": [
        "df_train = df_train.replace(\"Norm\", \"\" , subset=['Condition2']) #Norm means normal which indicates there's no second condition\n",
        "\n",
        "df_train = df_train.withColumn(\"Combined_Condition\", F.concat(col(\"Condition1\"), F.lit(\" \"), col(\"Condition2\")))\n",
        "\n",
        "df_train = df_train.drop(\"Condition1\", \"Condition2\")\n",
        "\n",
        "df_test = df_test.replace(\"Norm\", \"\" , subset=['Condition2']) #Norm means normal which indicates there's no second condition\n",
        "\n",
        "df_test = df_test.withColumn(\"Combined_Condition\", F.concat(col(\"Condition1\"), F.lit(\" \"), col(\"Condition2\")))\n",
        "\n",
        "df_test = df_test.drop(\"Condition1\", \"Condition2\")"
      ]
    },
    {
      "cell_type": "code",
      "execution_count": 420,
      "metadata": {
        "id": "-vNrExWR1w8H"
      },
      "outputs": [],
      "source": [
        "df_train = df_train.withColumn(\"Heating_Qu\", F.concat(col(\"Heating\"), F.lit(\" - \"), col(\"HeatingQC\")))\n",
        "df_train = df_train.drop(\"Heating\", \"HeatingQC\")\n",
        "\n",
        "df_test = df_test.withColumn(\"Heating_Qu\", F.concat(col(\"Heating\"), F.lit(\" - \"), col(\"HeatingQC\")))\n",
        "df_test = df_test.drop(\"Heating\", \"HeatingQC\")"
      ]
    },
    {
      "cell_type": "code",
      "execution_count": 421,
      "metadata": {
        "colab": {
          "base_uri": "https://localhost:8080/"
        },
        "id": "V49bbq5tskIF",
        "outputId": "bd541dd4-840a-4a3e-b728-b39d698a968e"
      },
      "outputs": [
        {
          "name": "stdout",
          "output_type": "stream",
          "text": [
            "<class 'pandas.core.frame.DataFrame'>\n",
            "RangeIndex: 1460 entries, 0 to 1459\n",
            "Columns: 65 entries, Id to Heating_Qu\n",
            "dtypes: float64(9), int32(20), object(36)\n",
            "memory usage: 627.5+ KB\n"
          ]
        }
      ],
      "source": [
        "df_train.toPandas().info(verbose=False)"
      ]
    },
    {
      "cell_type": "code",
      "execution_count": 422,
      "metadata": {
        "colab": {
          "base_uri": "https://localhost:8080/"
        },
        "id": "MzeZZte5Hpeh",
        "outputId": "04336f06-7260-42e5-dc26-55c7f86d74aa"
      },
      "outputs": [
        {
          "name": "stdout",
          "output_type": "stream",
          "text": [
            "<class 'pandas.core.frame.DataFrame'>\n",
            "RangeIndex: 1459 entries, 0 to 1458\n",
            "Columns: 64 entries, Id to Heating_Qu\n",
            "dtypes: float64(9), int32(19), object(36)\n",
            "memory usage: 621.3+ KB\n"
          ]
        }
      ],
      "source": [
        "df_test.toPandas().info(verbose=False)"
      ]
    },
    {
      "cell_type": "code",
      "execution_count": 423,
      "metadata": {
        "colab": {
          "base_uri": "https://localhost:8080/"
        },
        "id": "v52ARq8QgJVi",
        "outputId": "b9290f55-c22f-41d4-e1f9-bc30253ab9f1"
      },
      "outputs": [
        {
          "name": "stdout",
          "output_type": "stream",
          "text": [
            "['Id', 'MSSubClass', 'MSZoning', 'LotFrontage', 'LotArea', 'Street', 'LotShape', 'LandContour', 'Utilities', 'LotConfig', 'LandSlope', 'Neighborhood', 'BldgType', 'HouseStyle', 'OverallQual', 'OverallCond', 'YearBuilt', 'YearRemodAdd', 'RoofStyle', 'RoofMatl', 'Exterior1st', 'Exterior2nd', 'MasVnrType', 'MasVnrArea', 'ExterQual', 'ExterCond', 'Foundation', 'BsmtQual', 'BsmtCond', 'BsmtExposure', 'BsmtFinType1', 'BsmtFinSF1', 'BsmtFinType2', 'BsmtUnfSF', 'TotalBsmtSF', 'CentralAir', 'Electrical', '1stFlrSF', '2ndFlrSF', 'GrLivArea', 'BedroomAbvGr', 'KitchenAbvGr', 'KitchenQual', 'TotRmsAbvGrd', 'Functional', 'Fireplaces', 'GarageType', 'GarageYrBlt', 'GarageFinish', 'GarageCars', 'GarageArea', 'GarageQual', 'GarageCond', 'PavedDrive', 'WoodDeckSF', 'OpenPorchSF', 'EnclosedPorch', 'MoSold', 'YrSold', 'SaleType', 'SaleCondition', 'SalePrice', 'Total_Bathrooms', 'Combined_Condition', 'Heating_Qu'] \n",
            " ['Id', 'MSSubClass', 'MSZoning', 'LotFrontage', 'LotArea', 'Street', 'LotShape', 'LandContour', 'Utilities', 'LotConfig', 'LandSlope', 'Neighborhood', 'BldgType', 'HouseStyle', 'OverallQual', 'OverallCond', 'YearBuilt', 'YearRemodAdd', 'RoofStyle', 'RoofMatl', 'Exterior1st', 'Exterior2nd', 'MasVnrType', 'MasVnrArea', 'ExterQual', 'ExterCond', 'Foundation', 'BsmtQual', 'BsmtCond', 'BsmtExposure', 'BsmtFinType1', 'BsmtFinSF1', 'BsmtFinType2', 'BsmtUnfSF', 'TotalBsmtSF', 'CentralAir', 'Electrical', '1stFlrSF', '2ndFlrSF', 'GrLivArea', 'BedroomAbvGr', 'KitchenAbvGr', 'KitchenQual', 'TotRmsAbvGrd', 'Functional', 'Fireplaces', 'GarageType', 'GarageYrBlt', 'GarageFinish', 'GarageCars', 'GarageArea', 'GarageQual', 'GarageCond', 'PavedDrive', 'WoodDeckSF', 'OpenPorchSF', 'EnclosedPorch', 'MoSold', 'YrSold', 'SaleType', 'SaleCondition', 'Total_Bathrooms', 'Combined_Condition', 'Heating_Qu']\n"
          ]
        }
      ],
      "source": [
        "print(df_train.columns, \"\\n\", df_test.columns)\n"
      ]
    },
    {
      "cell_type": "code",
      "execution_count": 424,
      "metadata": {
        "id": "zaevt8PeJhpe"
      },
      "outputs": [],
      "source": [
        "from joblib import dump"
      ]
    },
    {
      "cell_type": "code",
      "execution_count": 425,
      "metadata": {
        "id": "M6WDOVqWTPAt"
      },
      "outputs": [],
      "source": [
        "from pyspark.ml.feature import StringIndexer\n",
        "from pyspark.ml.feature import OneHotEncoder\n",
        "from pyspark.ml.feature import VectorAssembler\n",
        "from pyspark.ml import Pipeline\n",
        "from pyspark.ml.regression import LinearRegression\n",
        "#Applying string indexing to the categorical cols and removing the original cols\n",
        "\n",
        "from pyspark.ml.feature import StringIndexer\n",
        "\n",
        "column_types = df_train.dtypes\n",
        "categoricalcolumns = [column for column, dtype in column_types if dtype == \"string\"]\n",
        "continuousCols =  [column for column, dtype in column_types if (dtype != \"string\" and (str(column) != \"SalePrice\") and str(column) != \"Id\" )]\n",
        "\n",
        "indexers = [ StringIndexer(inputCol=c, outputCol=\"{0}_ind\".format(c))\n",
        "              for c in categoricalcolumns ]\n",
        "\n",
        "# default setting: dropLast=True\n",
        "encoders = [ OneHotEncoder(inputCol=indexer.getOutputCol(),\n",
        "              outputCol=\"{0}_enc\".format(indexer.getOutputCol()))\n",
        "              for indexer in indexers ]\n",
        "\n",
        "assembler = VectorAssembler(inputCols=[encoder.getOutputCol() for encoder in encoders]\n",
        "                            + continuousCols, outputCol=\"features\")\n",
        "\n",
        "pipeline = Pipeline(stages=indexers + encoders + [assembler])\n",
        "\n",
        "preprocess_model = pipeline.fit(df_train)\n",
        "assembledDF = preprocess_model.transform(df_train)\n",
        "assembledDF_test = preprocess_model.transform(df_test)\n",
        "\n",
        "# dump(preprocess_model, 'Inference_preprocess.joblib')\n"
      ]
    },
    {
      "cell_type": "code",
      "execution_count": 426,
      "metadata": {
        "id": "PTmVNmYk45Os"
      },
      "outputs": [],
      "source": [
        "train = assembledDF.select(\"Id\", \"features\", \"SalePrice\")\n",
        "test =  assembledDF_test.select(\"Id\", \"features\")\n"
      ]
    },
    {
      "cell_type": "code",
      "execution_count": 427,
      "metadata": {
        "id": "nRGhZhgO5g8b"
      },
      "outputs": [],
      "source": [
        "train = train.withColumn(\"SalePrice_final\", F.log(col(\"SalePrice\"))) # applying log transformation for saleprice"
      ]
    },
    {
      "cell_type": "code",
      "execution_count": 428,
      "metadata": {
        "id": "ZK2nXZiHieOh"
      },
      "outputs": [],
      "source": [
        "trainDF, testDF =  train.randomSplit([0.8,0.2], seed = 1234)\n"
      ]
    },
    {
      "cell_type": "code",
      "execution_count": 429,
      "metadata": {
        "colab": {
          "base_uri": "https://localhost:8080/"
        },
        "id": "TVT3QsVBfVh0",
        "outputId": "911af6f6-2f94-4090-bc27-8babfa1ab498"
      },
      "outputs": [
        {
          "name": "stdout",
          "output_type": "stream",
          "text": [
            "+---+--------------------+---------+------------------+------------------+\n",
            "| Id|            features|SalePrice|   SalePrice_final|        prediction|\n",
            "+---+--------------------+---------+------------------+------------------+\n",
            "|  2|(240,[0,4,5,8,11,...|   181500|12.109010932687042|12.017551493460124|\n",
            "|  5|(240,[0,4,6,8,11,...|   250000|12.429216196844383|12.125542689203487|\n",
            "| 22|(240,[1,4,5,9,11,...|   139400|11.845102777308561|12.071547091331805|\n",
            "+---+--------------------+---------+------------------+------------------+\n",
            "only showing top 3 rows\n",
            "\n"
          ]
        }
      ],
      "source": [
        "from pyspark.ml.regression import LinearRegression\n",
        "# from pyspark.ml.linalg import SparseVector\n",
        "\n",
        "lr = LinearRegression(featuresCol=\"features\", labelCol=\"SalePrice_final\", maxIter=10, regParam=0.3, elasticNetParam=0.8)\n",
        "\n",
        "lrmodel = lr.fit(trainDF)\n",
        "pred = lrmodel.transform(testDF)\n",
        "\n",
        "type(pred)\n",
        "pred.show(3)\n",
        "\n",
        "# lrmodel.save('Inference_lrmodel')\n"
      ]
    },
    {
      "cell_type": "code",
      "execution_count": 430,
      "metadata": {
        "colab": {
          "base_uri": "https://localhost:8080/"
        },
        "id": "Q0YOF6M_z3TH",
        "outputId": "bd0d99ce-0f00-4f5e-e323-bb17923a1f5f"
      },
      "outputs": [
        {
          "name": "stdout",
          "output_type": "stream",
          "text": [
            "+---------+------------------+\n",
            "|SalePrice|   EXP(prediction)|\n",
            "+---------+------------------+\n",
            "|   181500|165636.59709376981|\n",
            "|   250000|184525.45292920558|\n",
            "|   139400|174826.10817718334|\n",
            "|   154000|156930.12092334876|\n",
            "|   256300|184525.45292920558|\n",
            "|   134800|156930.12092334876|\n",
            "|   306000|184525.45292920558|\n",
            "|   145000|156930.12092334876|\n",
            "|   319900| 194762.9168992295|\n",
            "|   249700|184525.45292920558|\n",
            "|   110000|156930.12092334876|\n",
            "|   172500|184525.45292920558|\n",
            "|   196500|174826.10817718334|\n",
            "|   438780|205568.35491767738|\n",
            "|   140000|174826.10817718334|\n",
            "|   180000|174826.10817718334|\n",
            "|   129500| 148681.2895526648|\n",
            "|   185000|174826.10817718334|\n",
            "|   135750| 148681.2895526648|\n",
            "|   168500|174826.10817718334|\n",
            "+---------+------------------+\n",
            "only showing top 20 rows\n",
            "\n"
          ]
        }
      ],
      "source": [
        "pred.select(\"SalePrice\",  F.exp(col(\"prediction\"))).show()"
      ]
    },
    {
      "cell_type": "code",
      "execution_count": 431,
      "metadata": {
        "colab": {
          "base_uri": "https://localhost:8080/"
        },
        "id": "d0e6LfPoAH5q",
        "outputId": "85eeae1c-7271-4c0d-f47e-50633fec7e67"
      },
      "outputs": [
        {
          "name": "stdout",
          "output_type": "stream",
          "text": [
            "numIterations: 10\n",
            "objectiveHistory: [0.5000000000000568, 0.4962138319386048, 0.49128916790095356, 0.48820162591286137, 0.4854975577266928, 0.4828860023701921, 0.48086219147694925, 0.48019524734829666, 0.48007971742665007, 0.4800611555378349, 0.4800611554482691]\n",
            "+--------------------+\n",
            "|           residuals|\n",
            "+--------------------+\n",
            "| 0.17614722888918877|\n",
            "| 0.24561960170395558|\n",
            "|-0.22214938974036436|\n",
            "|-0.09295598634639823|\n",
            "|  0.5090603373658471|\n",
            "+--------------------+\n",
            "only showing top 5 rows\n",
            "\n",
            "RMSE: 0.341837\n",
            "r2: 0.268682\n"
          ]
        }
      ],
      "source": [
        "trainingSummary = lrmodel.summary\n",
        "print(\"numIterations: %d\" % trainingSummary.totalIterations)\n",
        "print(\"objectiveHistory: %s\" % str(trainingSummary.objectiveHistory))\n",
        "trainingSummary.residuals.show(5)\n",
        "print(\"RMSE: %f\" % trainingSummary.rootMeanSquaredError)\n",
        "print(\"r2: %f\" % trainingSummary.r2)\n"
      ]
    },
    {
      "cell_type": "code",
      "execution_count": 432,
      "metadata": {
        "colab": {
          "base_uri": "https://localhost:8080/"
        },
        "id": "kKYxOD_GxBcl",
        "outputId": "9cf1b3a9-4cb3-4196-ebde-f6858a714df3"
      },
      "outputs": [
        {
          "name": "stdout",
          "output_type": "stream",
          "text": [
            "Root Mean Squared Error (RMSE) for Random Forest Regressor= 0.16\n",
            "+---------+------------------+\n",
            "|SalePrice|   EXP(prediction)|\n",
            "+---------+------------------+\n",
            "|   181500|164390.50792657945|\n",
            "|   250000| 299881.2225548617|\n",
            "|   139400|156101.07421471327|\n",
            "|   154000|124805.98990482607|\n",
            "|   256300|251359.53193968374|\n",
            "|   134800|129492.17381972415|\n",
            "|   306000| 294220.8143182912|\n",
            "|   145000|146078.35585489043|\n",
            "|   319900|288293.32784810837|\n",
            "|   249700|247961.99393450312|\n",
            "|   110000|130800.75249708038|\n",
            "|   172500| 236437.8103056931|\n",
            "|   196500|204054.85383393875|\n",
            "|   438780| 370666.0952208029|\n",
            "|   140000|155814.15932631507|\n",
            "|   180000|229836.16167842716|\n",
            "|   129500|114339.13684043376|\n",
            "|   185000|190268.44420174503|\n",
            "|   135750|116229.43678578718|\n",
            "|   168500|190182.49089495087|\n",
            "+---------+------------------+\n",
            "only showing top 20 rows\n",
            "\n"
          ]
        }
      ],
      "source": [
        "from pyspark.ml.regression import RandomForestRegressor\n",
        "\n",
        "rf = RandomForestRegressor(\n",
        "    labelCol=\"SalePrice_final\",\n",
        "    featuresCol=\"features\",\n",
        "    numTrees=10,  # You can adjust the number of trees in the forest\n",
        "    maxBins=10     # You can adjust the maximum number of bins for features\n",
        ")\n",
        "\n",
        "rf_model = rf.fit(trainDF)\n",
        "\n",
        "rfpredictions = rf_model.transform(testDF)\n",
        "\n",
        "from pyspark.ml.evaluation import RegressionEvaluator\n",
        "\n",
        "evaluator = RegressionEvaluator(\n",
        "    labelCol=\"SalePrice_final\",\n",
        "    predictionCol=\"prediction\",\n",
        "    metricName=\"rmse\"  # You can use other metrics like \"mse\" or \"r2\" as well\n",
        ")\n",
        "\n",
        "rmse = evaluator.evaluate(rfpredictions)\n",
        "print(\"Root Mean Squared Error (RMSE) for Random Forest Regressor= {:.2f}\".format(rmse))\n",
        "\n",
        "# rfpredictions.show(5)\n",
        "# rf_model.save('Inference_rf_model')\n",
        "rfpredictions.select(\"SalePrice\",  F.exp(col(\"prediction\"))).show()"
      ]
    },
    {
      "cell_type": "code",
      "execution_count": 433,
      "metadata": {
        "colab": {
          "base_uri": "https://localhost:8080/"
        },
        "id": "U4EOEyLUybSu",
        "outputId": "778a0fa0-cc9b-4749-982d-2be773f99981"
      },
      "outputs": [
        {
          "name": "stdout",
          "output_type": "stream",
          "text": [
            "+---+--------------------+---------+------------------+------------------+\n",
            "| Id|            features|SalePrice|   SalePrice_final|        prediction|\n",
            "+---+--------------------+---------+------------------+------------------+\n",
            "|  2|(240,[0,4,5,8,11,...|   181500|12.109010932687042|12.001708963737567|\n",
            "|  5|(240,[0,4,6,8,11,...|   250000|12.429216196844383|12.815937460097588|\n",
            "| 22|(240,[1,4,5,9,11,...|   139400|11.845102777308561|12.113338248343815|\n",
            "| 25|(240,[0,4,6,8,11,...|   154000|11.944707881395766|11.819929995857457|\n",
            "| 26|(240,[0,4,5,8,11,...|   256300|12.454103912352162|12.502057443743098|\n",
            "+---+--------------------+---------+------------------+------------------+\n",
            "only showing top 5 rows\n",
            "\n",
            "Root Mean Squared Error (RMSE) for GBT Regressor = 0.18\n",
            "+---------+------------------+\n",
            "|SalePrice|   EXP(prediction)|\n",
            "+---------+------------------+\n",
            "|   181500|163033.17125842767|\n",
            "|   250000| 368036.5232166253|\n",
            "|   139400| 182287.1095992887|\n",
            "|   154000|135934.71271065652|\n",
            "|   256300| 268889.9437276696|\n",
            "|   134800|129900.69322824881|\n",
            "|   306000|  281576.435811658|\n",
            "|   145000|154894.13907742107|\n",
            "|   319900|274323.61773679795|\n",
            "|   249700| 263789.2724467636|\n",
            "|   110000| 116649.9170468266|\n",
            "|   172500|188184.45775707156|\n",
            "|   196500|193380.51778929363|\n",
            "|   438780|362005.44427710306|\n",
            "|   140000|149484.63031766578|\n",
            "|   180000| 296927.2589398568|\n",
            "|   129500|102116.80065168797|\n",
            "|   185000|193896.73135088803|\n",
            "|   135750| 97135.56643635692|\n",
            "|   168500|192312.12867721525|\n",
            "+---------+------------------+\n",
            "only showing top 20 rows\n",
            "\n"
          ]
        }
      ],
      "source": [
        "from pyspark.ml.regression import GBTRegressor\n",
        "\n",
        "gbt = GBTRegressor(\n",
        "    labelCol=\"SalePrice_final\",\n",
        "    featuresCol=\"features\",\n",
        "    maxIter=10,       # Number of boosting iterations (trees)\n",
        "    maxDepth=5        # Maximum depth of each tree (default is 5)\n",
        ")\n",
        "\n",
        "gbt_model = gbt.fit(trainDF)\n",
        "gbtpredictions = gbt_model.transform(testDF)\n",
        "gbtpredictions.show(5)\n",
        "\n",
        "rmse = evaluator.evaluate(gbtpredictions)\n",
        "print(\"Root Mean Squared Error (RMSE) for GBT Regressor = {:.2f}\".format(rmse))\n",
        "\n",
        "# gbt_model.save('Inference_gbt_model')\n",
        "gbtpredictions.select(\"SalePrice\",  F.exp(col(\"prediction\"))).show()"
      ]
    },
    {
      "cell_type": "code",
      "execution_count": 434,
      "metadata": {
        "id": "us11nW8JhiuQ"
      },
      "outputs": [],
      "source": [
        "# pred_test = lrmodel.transform(test)\n",
        "# pred_test.show(5)"
      ]
    },
    {
      "cell_type": "code",
      "execution_count": 435,
      "metadata": {
        "colab": {
          "base_uri": "https://localhost:8080/"
        },
        "id": "cTJ-Llnujjq2",
        "outputId": "74704293-c80b-405d-d22a-b6b0abbcd6fd"
      },
      "outputs": [
        {
          "name": "stdout",
          "output_type": "stream",
          "text": [
            "+----+--------------------+------------------+\n",
            "|  Id|            features|        prediction|\n",
            "+----+--------------------+------------------+\n",
            "|1461|(240,[3,4,5,8,11,...|11.759579591054145|\n",
            "|1462|(240,[0,4,6,8,11,...|11.863638099326575|\n",
            "|1463|(240,[0,4,6,8,11,...|12.058935961450771|\n",
            "|1464|(240,[0,4,6,8,11,...|12.109459098967395|\n",
            "|1465|(240,[0,4,6,10,11...|12.178529181120538|\n",
            "+----+--------------------+------------------+\n",
            "only showing top 5 rows\n",
            "\n"
          ]
        }
      ],
      "source": [
        "pred_test = rf_model.transform(test)\n",
        "pred_test.show(5)\n"
      ]
    },
    {
      "cell_type": "code",
      "execution_count": 436,
      "metadata": {
        "id": "JXa4juDSjltB"
      },
      "outputs": [],
      "source": [
        "# pred_test = gbt_model.transform(test)\n",
        "# pred_test.show(5)"
      ]
    },
    {
      "cell_type": "code",
      "execution_count": 437,
      "metadata": {
        "colab": {
          "base_uri": "https://localhost:8080/"
        },
        "id": "4iwrqYgNJ4CF",
        "outputId": "9cd358c8-bd4e-4703-82b3-645b686f8a45"
      },
      "outputs": [
        {
          "name": "stdout",
          "output_type": "stream",
          "text": [
            "+----+------------------+\n",
            "|  Id|         SalePrice|\n",
            "+----+------------------+\n",
            "|1461|127973.64087795411|\n",
            "|1462|142007.91853030864|\n",
            "|1463|172635.19738753128|\n",
            "|1464|181581.36041001842|\n",
            "|1465|194566.47960973394|\n",
            "|1466|  179094.548967933|\n",
            "|1467|165171.82935139193|\n",
            "|1468|169220.51533280016|\n",
            "|1469|179947.57656061873|\n",
            "|1470|122061.76651256747|\n",
            "|1471| 196683.6964500533|\n",
            "|1472| 111920.0737092034|\n",
            "|1473|114447.76932281611|\n",
            "|1474|167472.65770442085|\n",
            "|1475| 157210.0467805193|\n",
            "|1476| 360126.6265211131|\n",
            "|1477| 243985.3621474091|\n",
            "|1478| 280586.1258252736|\n",
            "|1479| 271296.1730541934|\n",
            "|1480| 453780.3925027549|\n",
            "+----+------------------+\n",
            "only showing top 20 rows\n",
            "\n"
          ]
        }
      ],
      "source": [
        "pred_test.select(\"Id\", F.exp(col(\"prediction\")).alias(\"SalePrice\")).show()\n"
      ]
    }
  ],
  "metadata": {
    "colab": {
      "provenance": []
    },
    "kernelspec": {
      "display_name": "Python 3",
      "name": "python3"
    },
    "language_info": {
      "name": "python"
    }
  },
  "nbformat": 4,
  "nbformat_minor": 0
}
